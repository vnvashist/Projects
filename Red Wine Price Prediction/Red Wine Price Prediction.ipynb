{
 "cells": [
  {
   "cell_type": "code",
   "id": "initial_id",
   "metadata": {
    "collapsed": true,
    "ExecuteTime": {
     "end_time": "2025-01-24T00:30:51.349359Z",
     "start_time": "2025-01-24T00:30:51.337360Z"
    }
   },
   "source": "import pandas as pd",
   "outputs": [],
   "execution_count": 8
  },
  {
   "metadata": {
    "ExecuteTime": {
     "end_time": "2025-01-24T00:31:26.863646Z",
     "start_time": "2025-01-24T00:31:26.743599Z"
    }
   },
   "cell_type": "code",
   "source": "wine_data = pd.read_csv('Red Wine Price Prediction/Red.csv')",
   "id": "f2b155a538cb5a0c",
   "outputs": [],
   "execution_count": 11
  },
  {
   "metadata": {
    "ExecuteTime": {
     "end_time": "2025-01-24T00:31:44.193123Z",
     "start_time": "2025-01-24T00:31:44.173110Z"
    }
   },
   "cell_type": "code",
   "source": "wine_data.head(5)",
   "id": "c1779edf768edd90",
   "outputs": [
    {
     "data": {
      "text/plain": [
       "                                 Name  Country     Region  \\\n",
       "0                        Pomerol 2011   France    Pomerol   \n",
       "1                          Lirac 2017   France      Lirac   \n",
       "2  Erta e China Rosso di Toscana 2015    Italy    Toscana   \n",
       "3                      Bardolino 2019    Italy  Bardolino   \n",
       "4      Ried Scheibner Pinot Noir 2016  Austria  Carnuntum   \n",
       "\n",
       "                  Winery  Rating  NumberOfRatings  Price  Year  \n",
       "0  Château La Providence     4.2              100  95.00  2011  \n",
       "1     Château Mont-Redon     4.3              100  15.50  2017  \n",
       "2             Renzo Masi     3.9              100   7.45  2015  \n",
       "3             Cavalchina     3.5              100   8.72  2019  \n",
       "4            Markowitsch     3.9              100  29.15  2016  "
      ],
      "text/html": [
       "<div>\n",
       "<style scoped>\n",
       "    .dataframe tbody tr th:only-of-type {\n",
       "        vertical-align: middle;\n",
       "    }\n",
       "\n",
       "    .dataframe tbody tr th {\n",
       "        vertical-align: top;\n",
       "    }\n",
       "\n",
       "    .dataframe thead th {\n",
       "        text-align: right;\n",
       "    }\n",
       "</style>\n",
       "<table border=\"1\" class=\"dataframe\">\n",
       "  <thead>\n",
       "    <tr style=\"text-align: right;\">\n",
       "      <th></th>\n",
       "      <th>Name</th>\n",
       "      <th>Country</th>\n",
       "      <th>Region</th>\n",
       "      <th>Winery</th>\n",
       "      <th>Rating</th>\n",
       "      <th>NumberOfRatings</th>\n",
       "      <th>Price</th>\n",
       "      <th>Year</th>\n",
       "    </tr>\n",
       "  </thead>\n",
       "  <tbody>\n",
       "    <tr>\n",
       "      <th>0</th>\n",
       "      <td>Pomerol 2011</td>\n",
       "      <td>France</td>\n",
       "      <td>Pomerol</td>\n",
       "      <td>Château La Providence</td>\n",
       "      <td>4.2</td>\n",
       "      <td>100</td>\n",
       "      <td>95.00</td>\n",
       "      <td>2011</td>\n",
       "    </tr>\n",
       "    <tr>\n",
       "      <th>1</th>\n",
       "      <td>Lirac 2017</td>\n",
       "      <td>France</td>\n",
       "      <td>Lirac</td>\n",
       "      <td>Château Mont-Redon</td>\n",
       "      <td>4.3</td>\n",
       "      <td>100</td>\n",
       "      <td>15.50</td>\n",
       "      <td>2017</td>\n",
       "    </tr>\n",
       "    <tr>\n",
       "      <th>2</th>\n",
       "      <td>Erta e China Rosso di Toscana 2015</td>\n",
       "      <td>Italy</td>\n",
       "      <td>Toscana</td>\n",
       "      <td>Renzo Masi</td>\n",
       "      <td>3.9</td>\n",
       "      <td>100</td>\n",
       "      <td>7.45</td>\n",
       "      <td>2015</td>\n",
       "    </tr>\n",
       "    <tr>\n",
       "      <th>3</th>\n",
       "      <td>Bardolino 2019</td>\n",
       "      <td>Italy</td>\n",
       "      <td>Bardolino</td>\n",
       "      <td>Cavalchina</td>\n",
       "      <td>3.5</td>\n",
       "      <td>100</td>\n",
       "      <td>8.72</td>\n",
       "      <td>2019</td>\n",
       "    </tr>\n",
       "    <tr>\n",
       "      <th>4</th>\n",
       "      <td>Ried Scheibner Pinot Noir 2016</td>\n",
       "      <td>Austria</td>\n",
       "      <td>Carnuntum</td>\n",
       "      <td>Markowitsch</td>\n",
       "      <td>3.9</td>\n",
       "      <td>100</td>\n",
       "      <td>29.15</td>\n",
       "      <td>2016</td>\n",
       "    </tr>\n",
       "  </tbody>\n",
       "</table>\n",
       "</div>"
      ]
     },
     "execution_count": 12,
     "metadata": {},
     "output_type": "execute_result"
    }
   ],
   "execution_count": 12
  },
  {
   "metadata": {
    "ExecuteTime": {
     "end_time": "2025-01-24T00:32:14.110710Z",
     "start_time": "2025-01-24T00:32:14.061684Z"
    }
   },
   "cell_type": "code",
   "source": "wine_data['Year'] = pd.to_numeric(wine_data['Year'], errors='coerce')",
   "id": "26701648afa6a5d5",
   "outputs": [],
   "execution_count": 13
  },
  {
   "metadata": {
    "ExecuteTime": {
     "end_time": "2025-01-24T00:33:17.608486Z",
     "start_time": "2025-01-24T00:33:17.596476Z"
    }
   },
   "cell_type": "code",
   "source": [
    "# Finding the current year to get the age of the wine\n",
    "current_year = pd.Timestamp.now().year"
   ],
   "id": "a0b98a40898799",
   "outputs": [],
   "execution_count": 17
  },
  {
   "metadata": {
    "ExecuteTime": {
     "end_time": "2025-01-24T00:34:19.016442Z",
     "start_time": "2025-01-24T00:34:18.996442Z"
    }
   },
   "cell_type": "code",
   "source": "wine_data['Wine_Age'] = current_year - wine_data['Year']",
   "id": "990a85f096347f18",
   "outputs": [],
   "execution_count": 20
  },
  {
   "metadata": {
    "ExecuteTime": {
     "end_time": "2025-01-24T00:34:19.535675Z",
     "start_time": "2025-01-24T00:34:19.512476Z"
    }
   },
   "cell_type": "code",
   "source": "wine_data",
   "id": "2d456ff40f89d864",
   "outputs": [
    {
     "data": {
      "text/plain": [
       "                                    Name        Country  \\\n",
       "0                           Pomerol 2011         France   \n",
       "1                             Lirac 2017         France   \n",
       "2     Erta e China Rosso di Toscana 2015          Italy   \n",
       "3                         Bardolino 2019          Italy   \n",
       "4         Ried Scheibner Pinot Noir 2016        Austria   \n",
       "...                                  ...            ...   \n",
       "8661                6th Sense Syrah 2016  United States   \n",
       "8662     Botrosecco Maremma Toscana 2016          Italy   \n",
       "8663                     Haut-Médoc 2010         France   \n",
       "8664                         Shiraz 2019      Australia   \n",
       "8665    Portillo Cabernet Sauvignon 2016      Argentina   \n",
       "\n",
       "                       Region                     Winery  Rating  \\\n",
       "0                     Pomerol      Château La Providence     4.2   \n",
       "1                       Lirac         Château Mont-Redon     4.3   \n",
       "2                     Toscana                 Renzo Masi     3.9   \n",
       "3                   Bardolino                 Cavalchina     3.5   \n",
       "4                   Carnuntum                Markowitsch     3.9   \n",
       "...                       ...                        ...     ...   \n",
       "8661                     Lodi       Michael David Winery     3.8   \n",
       "8662          Maremma Toscana                Le Mortelle     4.0   \n",
       "8663               Haut-Médoc  Château Cambon La Pelouse     3.7   \n",
       "8664  South Eastern Australia                Yellow Tail     3.5   \n",
       "8665                  Tunuyán                  Salentein     3.4   \n",
       "\n",
       "      NumberOfRatings  Price    Year  Wine Age  Wine_Age  \n",
       "0                 100  95.00  2011.0      14.0      14.0  \n",
       "1                 100  15.50  2017.0       8.0       8.0  \n",
       "2                 100   7.45  2015.0      10.0      10.0  \n",
       "3                 100   8.72  2019.0       6.0       6.0  \n",
       "4                 100  29.15  2016.0       9.0       9.0  \n",
       "...               ...    ...     ...       ...       ...  \n",
       "8661              994  16.47  2016.0       9.0       9.0  \n",
       "8662              995  20.09  2016.0       9.0       9.0  \n",
       "8663              996  23.95  2010.0      15.0      15.0  \n",
       "8664              998   6.21  2019.0       6.0       6.0  \n",
       "8665              999   7.88  2016.0       9.0       9.0  \n",
       "\n",
       "[8666 rows x 10 columns]"
      ],
      "text/html": [
       "<div>\n",
       "<style scoped>\n",
       "    .dataframe tbody tr th:only-of-type {\n",
       "        vertical-align: middle;\n",
       "    }\n",
       "\n",
       "    .dataframe tbody tr th {\n",
       "        vertical-align: top;\n",
       "    }\n",
       "\n",
       "    .dataframe thead th {\n",
       "        text-align: right;\n",
       "    }\n",
       "</style>\n",
       "<table border=\"1\" class=\"dataframe\">\n",
       "  <thead>\n",
       "    <tr style=\"text-align: right;\">\n",
       "      <th></th>\n",
       "      <th>Name</th>\n",
       "      <th>Country</th>\n",
       "      <th>Region</th>\n",
       "      <th>Winery</th>\n",
       "      <th>Rating</th>\n",
       "      <th>NumberOfRatings</th>\n",
       "      <th>Price</th>\n",
       "      <th>Year</th>\n",
       "      <th>Wine Age</th>\n",
       "      <th>Wine_Age</th>\n",
       "    </tr>\n",
       "  </thead>\n",
       "  <tbody>\n",
       "    <tr>\n",
       "      <th>0</th>\n",
       "      <td>Pomerol 2011</td>\n",
       "      <td>France</td>\n",
       "      <td>Pomerol</td>\n",
       "      <td>Château La Providence</td>\n",
       "      <td>4.2</td>\n",
       "      <td>100</td>\n",
       "      <td>95.00</td>\n",
       "      <td>2011.0</td>\n",
       "      <td>14.0</td>\n",
       "      <td>14.0</td>\n",
       "    </tr>\n",
       "    <tr>\n",
       "      <th>1</th>\n",
       "      <td>Lirac 2017</td>\n",
       "      <td>France</td>\n",
       "      <td>Lirac</td>\n",
       "      <td>Château Mont-Redon</td>\n",
       "      <td>4.3</td>\n",
       "      <td>100</td>\n",
       "      <td>15.50</td>\n",
       "      <td>2017.0</td>\n",
       "      <td>8.0</td>\n",
       "      <td>8.0</td>\n",
       "    </tr>\n",
       "    <tr>\n",
       "      <th>2</th>\n",
       "      <td>Erta e China Rosso di Toscana 2015</td>\n",
       "      <td>Italy</td>\n",
       "      <td>Toscana</td>\n",
       "      <td>Renzo Masi</td>\n",
       "      <td>3.9</td>\n",
       "      <td>100</td>\n",
       "      <td>7.45</td>\n",
       "      <td>2015.0</td>\n",
       "      <td>10.0</td>\n",
       "      <td>10.0</td>\n",
       "    </tr>\n",
       "    <tr>\n",
       "      <th>3</th>\n",
       "      <td>Bardolino 2019</td>\n",
       "      <td>Italy</td>\n",
       "      <td>Bardolino</td>\n",
       "      <td>Cavalchina</td>\n",
       "      <td>3.5</td>\n",
       "      <td>100</td>\n",
       "      <td>8.72</td>\n",
       "      <td>2019.0</td>\n",
       "      <td>6.0</td>\n",
       "      <td>6.0</td>\n",
       "    </tr>\n",
       "    <tr>\n",
       "      <th>4</th>\n",
       "      <td>Ried Scheibner Pinot Noir 2016</td>\n",
       "      <td>Austria</td>\n",
       "      <td>Carnuntum</td>\n",
       "      <td>Markowitsch</td>\n",
       "      <td>3.9</td>\n",
       "      <td>100</td>\n",
       "      <td>29.15</td>\n",
       "      <td>2016.0</td>\n",
       "      <td>9.0</td>\n",
       "      <td>9.0</td>\n",
       "    </tr>\n",
       "    <tr>\n",
       "      <th>...</th>\n",
       "      <td>...</td>\n",
       "      <td>...</td>\n",
       "      <td>...</td>\n",
       "      <td>...</td>\n",
       "      <td>...</td>\n",
       "      <td>...</td>\n",
       "      <td>...</td>\n",
       "      <td>...</td>\n",
       "      <td>...</td>\n",
       "      <td>...</td>\n",
       "    </tr>\n",
       "    <tr>\n",
       "      <th>8661</th>\n",
       "      <td>6th Sense Syrah 2016</td>\n",
       "      <td>United States</td>\n",
       "      <td>Lodi</td>\n",
       "      <td>Michael David Winery</td>\n",
       "      <td>3.8</td>\n",
       "      <td>994</td>\n",
       "      <td>16.47</td>\n",
       "      <td>2016.0</td>\n",
       "      <td>9.0</td>\n",
       "      <td>9.0</td>\n",
       "    </tr>\n",
       "    <tr>\n",
       "      <th>8662</th>\n",
       "      <td>Botrosecco Maremma Toscana 2016</td>\n",
       "      <td>Italy</td>\n",
       "      <td>Maremma Toscana</td>\n",
       "      <td>Le Mortelle</td>\n",
       "      <td>4.0</td>\n",
       "      <td>995</td>\n",
       "      <td>20.09</td>\n",
       "      <td>2016.0</td>\n",
       "      <td>9.0</td>\n",
       "      <td>9.0</td>\n",
       "    </tr>\n",
       "    <tr>\n",
       "      <th>8663</th>\n",
       "      <td>Haut-Médoc 2010</td>\n",
       "      <td>France</td>\n",
       "      <td>Haut-Médoc</td>\n",
       "      <td>Château Cambon La Pelouse</td>\n",
       "      <td>3.7</td>\n",
       "      <td>996</td>\n",
       "      <td>23.95</td>\n",
       "      <td>2010.0</td>\n",
       "      <td>15.0</td>\n",
       "      <td>15.0</td>\n",
       "    </tr>\n",
       "    <tr>\n",
       "      <th>8664</th>\n",
       "      <td>Shiraz 2019</td>\n",
       "      <td>Australia</td>\n",
       "      <td>South Eastern Australia</td>\n",
       "      <td>Yellow Tail</td>\n",
       "      <td>3.5</td>\n",
       "      <td>998</td>\n",
       "      <td>6.21</td>\n",
       "      <td>2019.0</td>\n",
       "      <td>6.0</td>\n",
       "      <td>6.0</td>\n",
       "    </tr>\n",
       "    <tr>\n",
       "      <th>8665</th>\n",
       "      <td>Portillo Cabernet Sauvignon 2016</td>\n",
       "      <td>Argentina</td>\n",
       "      <td>Tunuyán</td>\n",
       "      <td>Salentein</td>\n",
       "      <td>3.4</td>\n",
       "      <td>999</td>\n",
       "      <td>7.88</td>\n",
       "      <td>2016.0</td>\n",
       "      <td>9.0</td>\n",
       "      <td>9.0</td>\n",
       "    </tr>\n",
       "  </tbody>\n",
       "</table>\n",
       "<p>8666 rows × 10 columns</p>\n",
       "</div>"
      ]
     },
     "execution_count": 21,
     "metadata": {},
     "output_type": "execute_result"
    }
   ],
   "execution_count": 21
  },
  {
   "metadata": {
    "ExecuteTime": {
     "end_time": "2025-01-24T00:34:34.489804Z",
     "start_time": "2025-01-24T00:34:34.462788Z"
    }
   },
   "cell_type": "code",
   "source": "wine_data = wine_data.dropna(subset=['Year', 'Wine_Age'])",
   "id": "327529f60abcfae3",
   "outputs": [],
   "execution_count": 23
  },
  {
   "metadata": {
    "ExecuteTime": {
     "end_time": "2025-01-24T00:34:48.695692Z",
     "start_time": "2025-01-24T00:34:48.677682Z"
    }
   },
   "cell_type": "code",
   "source": "wine_data = wine_data[wine_data['Wine_Age'] >= 0]",
   "id": "6ca490211a376755",
   "outputs": [],
   "execution_count": 24
  },
  {
   "metadata": {},
   "cell_type": "markdown",
   "source": "We should have the data formatted correctly so that we can derive the overall age of the wine without having to use years as inputs for the model.",
   "id": "42701ebe10614d8b"
  },
  {
   "metadata": {},
   "cell_type": "markdown",
   "source": "At this point we're going to count (frequency) the categorical features present in the dataset. We can't use these text entries as data points so they're going to be dropped afterwards.",
   "id": "255c1d26c3f95c1d"
  },
  {
   "metadata": {
    "ExecuteTime": {
     "end_time": "2025-01-24T00:36:46.158558Z",
     "start_time": "2025-01-24T00:36:46.128545Z"
    }
   },
   "cell_type": "code",
   "source": [
    "for col in ['Country', 'Region', 'Winery']:\n",
    "    encoding = wine_data[col].value_counts().to_dict()\n",
    "    wine_data[col + '_Frequency'] = wine_data[col].map(encoding)"
   ],
   "id": "9a36c2ae7fa0a430",
   "outputs": [],
   "execution_count": 26
  },
  {
   "metadata": {
    "ExecuteTime": {
     "end_time": "2025-01-24T00:38:07.771011Z",
     "start_time": "2025-01-24T00:38:07.760991Z"
    }
   },
   "cell_type": "code",
   "source": "numerical_wine_data = wine_data.drop(columns=['Country', 'Region', 'Winery', 'Name'])",
   "id": "167ebbfc22e23ce6",
   "outputs": [],
   "execution_count": 27
  },
  {
   "metadata": {
    "ExecuteTime": {
     "end_time": "2025-01-24T00:39:08.666005Z",
     "start_time": "2025-01-24T00:39:08.646002Z"
    }
   },
   "cell_type": "code",
   "source": [
    "reduced_features = [col for col in numerical_wine_data.columns if col not in ['Price']]\n",
    "X_reduced = numerical_wine_data[reduced_features]\n",
    "y_reduced = numerical_wine_data['Price']"
   ],
   "id": "ad8f5358e8de4451",
   "outputs": [],
   "execution_count": 28
  },
  {
   "metadata": {
    "ExecuteTime": {
     "end_time": "2025-01-24T00:39:16.960685Z",
     "start_time": "2025-01-24T00:39:16.950672Z"
    }
   },
   "cell_type": "code",
   "source": "X_reduced, y_reduced",
   "id": "f1a2f20fae3162a2",
   "outputs": [
    {
     "data": {
      "text/plain": [
       "(      Rating  NumberOfRatings    Year  Wine Age  Wine_Age  Country_Frequency  \\\n",
       " 0        4.2              100  2011.0      14.0      14.0               2255   \n",
       " 1        4.3              100  2017.0       8.0       8.0               2255   \n",
       " 2        3.9              100  2015.0      10.0      10.0               2646   \n",
       " 3        3.5              100  2019.0       6.0       6.0               2646   \n",
       " 4        3.9              100  2016.0       9.0       9.0                220   \n",
       " ...      ...              ...     ...       ...       ...                ...   \n",
       " 8661     3.8              994  2016.0       9.0       9.0                373   \n",
       " 8662     4.0              995  2016.0       9.0       9.0               2646   \n",
       " 8663     3.7              996  2010.0      15.0      15.0               2255   \n",
       " 8664     3.5              998  2019.0       6.0       6.0                246   \n",
       " 8665     3.4              999  2016.0       9.0       9.0                246   \n",
       " \n",
       "       Region_Frequency  Winery_Frequency  \n",
       " 0                  118                 2  \n",
       " 1                    6                 5  \n",
       " 2                  249                 1  \n",
       " 3                   11                 2  \n",
       " 4                   14                10  \n",
       " ...                ...               ...  \n",
       " 8661                12                 5  \n",
       " 8662                36                 3  \n",
       " 8663                98                 5  \n",
       " 8664                17                 3  \n",
       " 8665                 7                19  \n",
       " \n",
       " [8658 rows x 8 columns],\n",
       " 0       95.00\n",
       " 1       15.50\n",
       " 2        7.45\n",
       " 3        8.72\n",
       " 4       29.15\n",
       "         ...  \n",
       " 8661    16.47\n",
       " 8662    20.09\n",
       " 8663    23.95\n",
       " 8664     6.21\n",
       " 8665     7.88\n",
       " Name: Price, Length: 8658, dtype: float64)"
      ]
     },
     "execution_count": 29,
     "metadata": {},
     "output_type": "execute_result"
    }
   ],
   "execution_count": 29
  },
  {
   "metadata": {},
   "cell_type": "markdown",
   "source": "Great, at this point we have our independent variable and our target variable. We're ready to start modeling!",
   "id": "53c23cb175c036d4"
  },
  {
   "metadata": {
    "ExecuteTime": {
     "end_time": "2025-01-24T00:40:43.440771Z",
     "start_time": "2025-01-24T00:40:41.942070Z"
    }
   },
   "cell_type": "code",
   "source": [
    "from sklearn.model_selection import train_test_split\n",
    "X_train, X_test, y_train, y_test = train_test_split(X_reduced, y_reduced, test_size = 0.2, random_state = 123)"
   ],
   "id": "e7097b2bf8857b61",
   "outputs": [],
   "execution_count": 30
  },
  {
   "metadata": {
    "ExecuteTime": {
     "end_time": "2025-01-24T00:41:52.415948Z",
     "start_time": "2025-01-24T00:41:52.301261Z"
    }
   },
   "cell_type": "code",
   "source": [
    "from xgboost import XGBRegressor\n",
    "\n",
    "regressor = XGBRegressor(n_estimators = 100, learning_rate = 0.1, max_depth = 6, random_state = 123)\n",
    "regressor.fit(X_train, y_train)"
   ],
   "id": "b310788cb31443d2",
   "outputs": [
    {
     "data": {
      "text/plain": [
       "XGBRegressor(base_score=None, booster=None, callbacks=None,\n",
       "             colsample_bylevel=None, colsample_bynode=None,\n",
       "             colsample_bytree=None, device=None, early_stopping_rounds=None,\n",
       "             enable_categorical=False, eval_metric=None, feature_types=None,\n",
       "             gamma=None, grow_policy=None, importance_type=None,\n",
       "             interaction_constraints=None, learning_rate=0.1, max_bin=None,\n",
       "             max_cat_threshold=None, max_cat_to_onehot=None,\n",
       "             max_delta_step=None, max_depth=6, max_leaves=None,\n",
       "             min_child_weight=None, missing=nan, monotone_constraints=None,\n",
       "             multi_strategy=None, n_estimators=100, n_jobs=None,\n",
       "             num_parallel_tree=None, random_state=123, ...)"
      ],
      "text/html": [
       "<style>#sk-container-id-1 {color: black;}#sk-container-id-1 pre{padding: 0;}#sk-container-id-1 div.sk-toggleable {background-color: white;}#sk-container-id-1 label.sk-toggleable__label {cursor: pointer;display: block;width: 100%;margin-bottom: 0;padding: 0.3em;box-sizing: border-box;text-align: center;}#sk-container-id-1 label.sk-toggleable__label-arrow:before {content: \"▸\";float: left;margin-right: 0.25em;color: #696969;}#sk-container-id-1 label.sk-toggleable__label-arrow:hover:before {color: black;}#sk-container-id-1 div.sk-estimator:hover label.sk-toggleable__label-arrow:before {color: black;}#sk-container-id-1 div.sk-toggleable__content {max-height: 0;max-width: 0;overflow: hidden;text-align: left;background-color: #f0f8ff;}#sk-container-id-1 div.sk-toggleable__content pre {margin: 0.2em;color: black;border-radius: 0.25em;background-color: #f0f8ff;}#sk-container-id-1 input.sk-toggleable__control:checked~div.sk-toggleable__content {max-height: 200px;max-width: 100%;overflow: auto;}#sk-container-id-1 input.sk-toggleable__control:checked~label.sk-toggleable__label-arrow:before {content: \"▾\";}#sk-container-id-1 div.sk-estimator input.sk-toggleable__control:checked~label.sk-toggleable__label {background-color: #d4ebff;}#sk-container-id-1 div.sk-label input.sk-toggleable__control:checked~label.sk-toggleable__label {background-color: #d4ebff;}#sk-container-id-1 input.sk-hidden--visually {border: 0;clip: rect(1px 1px 1px 1px);clip: rect(1px, 1px, 1px, 1px);height: 1px;margin: -1px;overflow: hidden;padding: 0;position: absolute;width: 1px;}#sk-container-id-1 div.sk-estimator {font-family: monospace;background-color: #f0f8ff;border: 1px dotted black;border-radius: 0.25em;box-sizing: border-box;margin-bottom: 0.5em;}#sk-container-id-1 div.sk-estimator:hover {background-color: #d4ebff;}#sk-container-id-1 div.sk-parallel-item::after {content: \"\";width: 100%;border-bottom: 1px solid gray;flex-grow: 1;}#sk-container-id-1 div.sk-label:hover label.sk-toggleable__label {background-color: #d4ebff;}#sk-container-id-1 div.sk-serial::before {content: \"\";position: absolute;border-left: 1px solid gray;box-sizing: border-box;top: 0;bottom: 0;left: 50%;z-index: 0;}#sk-container-id-1 div.sk-serial {display: flex;flex-direction: column;align-items: center;background-color: white;padding-right: 0.2em;padding-left: 0.2em;position: relative;}#sk-container-id-1 div.sk-item {position: relative;z-index: 1;}#sk-container-id-1 div.sk-parallel {display: flex;align-items: stretch;justify-content: center;background-color: white;position: relative;}#sk-container-id-1 div.sk-item::before, #sk-container-id-1 div.sk-parallel-item::before {content: \"\";position: absolute;border-left: 1px solid gray;box-sizing: border-box;top: 0;bottom: 0;left: 50%;z-index: -1;}#sk-container-id-1 div.sk-parallel-item {display: flex;flex-direction: column;z-index: 1;position: relative;background-color: white;}#sk-container-id-1 div.sk-parallel-item:first-child::after {align-self: flex-end;width: 50%;}#sk-container-id-1 div.sk-parallel-item:last-child::after {align-self: flex-start;width: 50%;}#sk-container-id-1 div.sk-parallel-item:only-child::after {width: 0;}#sk-container-id-1 div.sk-dashed-wrapped {border: 1px dashed gray;margin: 0 0.4em 0.5em 0.4em;box-sizing: border-box;padding-bottom: 0.4em;background-color: white;}#sk-container-id-1 div.sk-label label {font-family: monospace;font-weight: bold;display: inline-block;line-height: 1.2em;}#sk-container-id-1 div.sk-label-container {text-align: center;}#sk-container-id-1 div.sk-container {/* jupyter's `normalize.less` sets `[hidden] { display: none; }` but bootstrap.min.css set `[hidden] { display: none !important; }` so we also need the `!important` here to be able to override the default hidden behavior on the sphinx rendered scikit-learn.org. See: https://github.com/scikit-learn/scikit-learn/issues/21755 */display: inline-block !important;position: relative;}#sk-container-id-1 div.sk-text-repr-fallback {display: none;}</style><div id=\"sk-container-id-1\" class=\"sk-top-container\"><div class=\"sk-text-repr-fallback\"><pre>XGBRegressor(base_score=None, booster=None, callbacks=None,\n",
       "             colsample_bylevel=None, colsample_bynode=None,\n",
       "             colsample_bytree=None, device=None, early_stopping_rounds=None,\n",
       "             enable_categorical=False, eval_metric=None, feature_types=None,\n",
       "             gamma=None, grow_policy=None, importance_type=None,\n",
       "             interaction_constraints=None, learning_rate=0.1, max_bin=None,\n",
       "             max_cat_threshold=None, max_cat_to_onehot=None,\n",
       "             max_delta_step=None, max_depth=6, max_leaves=None,\n",
       "             min_child_weight=None, missing=nan, monotone_constraints=None,\n",
       "             multi_strategy=None, n_estimators=100, n_jobs=None,\n",
       "             num_parallel_tree=None, random_state=123, ...)</pre><b>In a Jupyter environment, please rerun this cell to show the HTML representation or trust the notebook. <br />On GitHub, the HTML representation is unable to render, please try loading this page with nbviewer.org.</b></div><div class=\"sk-container\" hidden><div class=\"sk-item\"><div class=\"sk-estimator sk-toggleable\"><input class=\"sk-toggleable__control sk-hidden--visually\" id=\"sk-estimator-id-1\" type=\"checkbox\" checked><label for=\"sk-estimator-id-1\" class=\"sk-toggleable__label sk-toggleable__label-arrow\">XGBRegressor</label><div class=\"sk-toggleable__content\"><pre>XGBRegressor(base_score=None, booster=None, callbacks=None,\n",
       "             colsample_bylevel=None, colsample_bynode=None,\n",
       "             colsample_bytree=None, device=None, early_stopping_rounds=None,\n",
       "             enable_categorical=False, eval_metric=None, feature_types=None,\n",
       "             gamma=None, grow_policy=None, importance_type=None,\n",
       "             interaction_constraints=None, learning_rate=0.1, max_bin=None,\n",
       "             max_cat_threshold=None, max_cat_to_onehot=None,\n",
       "             max_delta_step=None, max_depth=6, max_leaves=None,\n",
       "             min_child_weight=None, missing=nan, monotone_constraints=None,\n",
       "             multi_strategy=None, n_estimators=100, n_jobs=None,\n",
       "             num_parallel_tree=None, random_state=123, ...)</pre></div></div></div></div></div>"
      ]
     },
     "execution_count": 33,
     "metadata": {},
     "output_type": "execute_result"
    }
   ],
   "execution_count": 33
  },
  {
   "metadata": {
    "ExecuteTime": {
     "end_time": "2025-01-24T00:42:05.625084Z",
     "start_time": "2025-01-24T00:42:05.601087Z"
    }
   },
   "cell_type": "code",
   "source": "y_pred = regressor.predict(X_test)",
   "id": "ffdef008956547f8",
   "outputs": [],
   "execution_count": 34
  },
  {
   "metadata": {
    "ExecuteTime": {
     "end_time": "2025-01-24T00:43:45.324684Z",
     "start_time": "2025-01-24T00:43:45.254657Z"
    }
   },
   "cell_type": "code",
   "source": [
    "from sklearn.metrics import mean_absolute_error, mean_squared_error, r2_score\n",
    "\n",
    "mae = mean_absolute_error(y_test, y_pred)\n",
    "mse = mean_squared_error(y_test, y_pred, squared=False)\n",
    "r2 = r2_score(y_test, y_pred)\n",
    "\n",
    "print(f'MAE Score: {mae}')\n",
    "print(f'MSE Score: {mse}')\n",
    "print(f'R2 Score: {r2}')"
   ],
   "id": "27abf6310117d87b",
   "outputs": [
    {
     "name": "stdout",
     "output_type": "stream",
     "text": [
      "MAE Score: 17.999434327231267\n",
      "MSE Score: 103.33488965211463\n",
      "R2 Score: -0.7089533726723043\n"
     ]
    }
   ],
   "execution_count": 35
  },
  {
   "metadata": {},
   "cell_type": "markdown",
   "source": [
    "That's not great...\n",
    "For MAE, that suggests that the average wine price being predicted deviates by \\\\$18. While that could be alright for \\\\$1000 wines, that's going to be a problem for cheaper sub \\$20 wines.\n",
    "\n",
    "For MSE, 103.33 indicates an extremely high variance, which suggests that the test dataset is not being properly captured\n",
    "\n",
    "For R2, the -0.71 score suggests that the model is performing very poorly.\n",
    "\n",
    "\n",
    "\n",
    "My first thought is obviously the dataset that we're working with. As it's on the smaller side, we may not be able to leverage the original categorical features as well with just frequency encoding. However, before addresssing that, I wanted to see about hyperparameter tuning, and see if the model is performing poorly due to a misconfiguration there. Instead of statically assigning the values, I thought about doing a grid search and seeing if I can automatically determine the best hyperparameters"
   ],
   "id": "8ec8000c4a79e3ee"
  },
  {
   "metadata": {
    "ExecuteTime": {
     "end_time": "2025-01-24T00:53:34.648026Z",
     "start_time": "2025-01-24T00:53:34.636015Z"
    }
   },
   "cell_type": "code",
   "source": [
    "param_grid = {'n_estimators': [100, 200, 300],\n",
    "    'learning_rate': [0.01, 0.05, 0.1],\n",
    "    'max_depth': [3, 5, 7],\n",
    "    'subsample': [0.8, 1.0],\n",
    "    'colsample_bytree': [0.8, 1.0],}"
   ],
   "id": "6a0cc401b4561684",
   "outputs": [],
   "execution_count": 36
  },
  {
   "metadata": {
    "ExecuteTime": {
     "end_time": "2025-01-24T00:53:46.812553Z",
     "start_time": "2025-01-24T00:53:46.802543Z"
    }
   },
   "cell_type": "code",
   "source": "regressor = XGBRegressor(random_state = 123)",
   "id": "cc2f5e8cdf303361",
   "outputs": [],
   "execution_count": 37
  },
  {
   "metadata": {
    "ExecuteTime": {
     "end_time": "2025-01-24T00:55:58.536370Z",
     "start_time": "2025-01-24T00:55:05.631185Z"
    }
   },
   "cell_type": "code",
   "source": [
    "from sklearn.model_selection import GridSearchCV\n",
    "\n",
    "grid_search = GridSearchCV(estimator = regressor, param_grid= param_grid)\n",
    "grid_search.fit(X_train, y_train)\n",
    "\n",
    "best_parameters= grid_search.best_params_\n",
    "best_model = grid_search.best_estimator_\n"
   ],
   "id": "3ed09dc4ff8172d5",
   "outputs": [],
   "execution_count": 38
  },
  {
   "metadata": {},
   "cell_type": "markdown",
   "source": "Alright after a minute of running here are the results:",
   "id": "8f2c3f03c5743dfc"
  },
  {
   "metadata": {
    "ExecuteTime": {
     "end_time": "2025-01-24T00:56:16.343067Z",
     "start_time": "2025-01-24T00:56:16.323064Z"
    }
   },
   "cell_type": "code",
   "source": "y_pred = best_model.predict(X_test)",
   "id": "ba1fd64719ee1899",
   "outputs": [],
   "execution_count": 39
  },
  {
   "metadata": {
    "ExecuteTime": {
     "end_time": "2025-01-24T00:56:30.099940Z",
     "start_time": "2025-01-24T00:56:30.089939Z"
    }
   },
   "cell_type": "code",
   "source": [
    "mae = mean_absolute_error(y_test, y_pred)\n",
    "mse = mean_squared_error(y_test, y_pred, squared=False)\n",
    "r2 = r2_score(y_test, y_pred)\n",
    "\n",
    "print(f'MAE Score: {mae}')\n",
    "print(f'MSE Score: {mse}')\n",
    "print(f'R2 Score: {r2}')"
   ],
   "id": "7e6d14863d6a85f",
   "outputs": [
    {
     "name": "stdout",
     "output_type": "stream",
     "text": [
      "MAE Score: 19.209919173060197\n",
      "MSE Score: 89.69244463569117\n",
      "R2 Score: -0.28750218828114504\n"
     ]
    }
   ],
   "execution_count": 40
  },
  {
   "metadata": {},
   "cell_type": "markdown",
   "source": [
    "Ok seems like we did about the same, with minor improvements in the MSE and R2 score. Not great... Let's take a look at feature engineering again.\n",
    "\n",
    "First off, we're going to look at reducing the outliers in the dataset. The MSE being so high suggests that outliers are a factor within the dataset"
   ],
   "id": "922655c66fb48843"
  },
  {
   "metadata": {
    "ExecuteTime": {
     "end_time": "2025-01-24T01:04:15.899424Z",
     "start_time": "2025-01-24T01:04:15.879422Z"
    }
   },
   "cell_type": "code",
   "source": "new_data = wine_data.drop(columns=['Country', 'Region', 'Winery', 'Name'])",
   "id": "62c8267b7d1902a5",
   "outputs": [],
   "execution_count": 42
  },
  {
   "metadata": {
    "ExecuteTime": {
     "end_time": "2025-01-24T01:04:39.813986Z",
     "start_time": "2025-01-24T01:04:39.803973Z"
    }
   },
   "cell_type": "code",
   "source": "eng_data = new_data.copy()",
   "id": "8150b5c5068bdd0e",
   "outputs": [],
   "execution_count": 43
  },
  {
   "metadata": {
    "ExecuteTime": {
     "end_time": "2025-01-24T01:05:36.385159Z",
     "start_time": "2025-01-24T01:05:36.376150Z"
    }
   },
   "cell_type": "code",
   "source": [
    "import numpy as np\n",
    "# Log normalize the dataset so that outliers are brought closer to other values\n",
    "eng_data['Log_Price'] = np.log1p(eng_data['Price'])"
   ],
   "id": "adafa8ba4c4f76e",
   "outputs": [],
   "execution_count": 46
  },
  {
   "metadata": {},
   "cell_type": "markdown",
   "source": "After that, we're going to also do a bit of interaction featuring. Since the values on their own did not contribute much to the model, we're going to try pushing the combined effect of the values to help demonstrate a clear ratio between the two values that the model can capture.",
   "id": "6afaf0841d40d822"
  },
  {
   "metadata": {
    "ExecuteTime": {
     "end_time": "2025-01-24T01:08:06.737772Z",
     "start_time": "2025-01-24T01:08:06.727770Z"
    }
   },
   "cell_type": "code",
   "source": [
    "eng_data['Wine_Age_Rating'] = eng_data['Wine_Age'] * eng_data['Rating']\n",
    "eng_data['Wine_Age_Country_Frequency']  = eng_data['Wine_Age'] * eng_data['Country_Frequency']\n",
    "eng_data['Rating_Count_Frequency'] = eng_data['Rating'] * eng_data['Country_Frequency']"
   ],
   "id": "13a41912083b7a44",
   "outputs": [],
   "execution_count": 49
  },
  {
   "metadata": {
    "ExecuteTime": {
     "end_time": "2025-01-24T01:09:03.304936Z",
     "start_time": "2025-01-24T01:09:03.295932Z"
    }
   },
   "cell_type": "code",
   "source": [
    "engineered_features = [col for col in eng_data.columns if col not in ['Price', 'Log_Price']]\n",
    "X_engineered = eng_data[engineered_features]\n",
    "y_engineered = eng_data['Log_Price']"
   ],
   "id": "9c7215524866b463",
   "outputs": [],
   "execution_count": 50
  },
  {
   "metadata": {
    "ExecuteTime": {
     "end_time": "2025-01-24T01:09:27.196720Z",
     "start_time": "2025-01-24T01:09:27.178717Z"
    }
   },
   "cell_type": "code",
   "source": "X_train, X_test, y_train, y_test = train_test_split(X_engineered, y_engineered, test_size=0.2, random_state=123)",
   "id": "38ceecc26f0cd18",
   "outputs": [],
   "execution_count": 51
  },
  {
   "metadata": {
    "ExecuteTime": {
     "end_time": "2025-01-24T01:09:40.025883Z",
     "start_time": "2025-01-24T01:09:40.016879Z"
    }
   },
   "cell_type": "code",
   "source": "regressor = XGBRegressor(random_state = 123)",
   "id": "33e0e08285ed9c81",
   "outputs": [],
   "execution_count": 52
  },
  {
   "metadata": {
    "ExecuteTime": {
     "end_time": "2025-01-24T01:11:10.754265Z",
     "start_time": "2025-01-24T01:10:02.897720Z"
    }
   },
   "cell_type": "code",
   "source": [
    "from sklearn.model_selection import GridSearchCV\n",
    "\n",
    "grid_search = GridSearchCV(estimator = regressor, param_grid= param_grid)\n",
    "grid_search.fit(X_train, y_train)\n",
    "\n",
    "best_parameters= grid_search.best_params_\n",
    "best_model = grid_search.best_estimator_"
   ],
   "id": "40b3980da692d56e",
   "outputs": [],
   "execution_count": 53
  },
  {
   "metadata": {
    "ExecuteTime": {
     "end_time": "2025-01-24T01:11:48.232108Z",
     "start_time": "2025-01-24T01:11:48.223106Z"
    }
   },
   "cell_type": "code",
   "source": "y_pred = best_model.predict(X_test)",
   "id": "a1a709341447e253",
   "outputs": [],
   "execution_count": 56
  },
  {
   "metadata": {
    "ExecuteTime": {
     "end_time": "2025-01-24T01:12:10.259122Z",
     "start_time": "2025-01-24T01:12:10.251122Z"
    }
   },
   "cell_type": "code",
   "source": [
    "y_pred_scaled = np.expm1(y_pred)\n",
    "y_test_scaled = np.expm1(y_test)"
   ],
   "id": "54c2b59908fd3f93",
   "outputs": [],
   "execution_count": 57
  },
  {
   "metadata": {
    "ExecuteTime": {
     "end_time": "2025-01-24T01:12:41.488138Z",
     "start_time": "2025-01-24T01:12:41.479136Z"
    }
   },
   "cell_type": "code",
   "source": [
    "mae = mean_absolute_error(y_test_scaled, y_pred_scaled)\n",
    "mse = mean_squared_error(y_test_scaled, y_pred_scaled, squared=False)\n",
    "r2 = r2_score(y_test_scaled, y_pred_scaled)\n",
    "\n",
    "print(f'MAE Score: {mae}')\n",
    "print(f'MSE Score: {mse}')\n",
    "print(f'R2 Score: {r2}')"
   ],
   "id": "3d87db397a5b4188",
   "outputs": [
    {
     "name": "stdout",
     "output_type": "stream",
     "text": [
      "MAE Score: 14.496347134394128\n",
      "MSE Score: 52.36930743324817\n",
      "R2 Score: 0.5610754075788231\n"
     ]
    }
   ],
   "execution_count": 58
  },
  {
   "metadata": {},
   "cell_type": "markdown",
   "source": "Ok not bad! We're seeing improvement at every metric, even suggesting that the model can explain 56% of the variance seen in the wine price. Ok, lets look into those residuals again. Despite log normalizing the data, we still seem to have a high MSE value.",
   "id": "49059bcc92de00bc"
  },
  {
   "metadata": {
    "ExecuteTime": {
     "end_time": "2025-01-24T01:20:37.364977Z",
     "start_time": "2025-01-24T01:20:37.355957Z"
    }
   },
   "cell_type": "code",
   "source": "residuals = y_test_scaled - y_pred_scaled",
   "id": "3510548934f17f73",
   "outputs": [],
   "execution_count": 59
  },
  {
   "metadata": {
    "ExecuteTime": {
     "end_time": "2025-01-24T01:21:13.930905Z",
     "start_time": "2025-01-24T01:21:13.912905Z"
    }
   },
   "cell_type": "code",
   "source": "residuals_df = pd.DataFrame({'Actual': y_test_scaled, 'Predicted': y_pred_scaled, 'Residuals': residuals})",
   "id": "fc1ca3a1f91d87b9",
   "outputs": [],
   "execution_count": 60
  },
  {
   "metadata": {
    "ExecuteTime": {
     "end_time": "2025-01-24T01:21:15.949218Z",
     "start_time": "2025-01-24T01:21:15.931217Z"
    }
   },
   "cell_type": "code",
   "source": "residuals_df",
   "id": "a58b7e2978854d0a",
   "outputs": [
    {
     "data": {
      "text/plain": [
       "      Actual  Predicted  Residuals\n",
       "7442   13.00  16.661245  -3.661245\n",
       "7874   57.23  67.616676 -10.386676\n",
       "3884   77.01  52.034290  24.975710\n",
       "7787   15.95  16.566023  -0.616023\n",
       "5178   26.00  35.550343  -9.550343\n",
       "...      ...        ...        ...\n",
       "5269   31.90  59.617592 -27.717592\n",
       "4297    8.53  10.429618  -1.899618\n",
       "7569   19.95  39.380936 -19.430936\n",
       "1901    9.60   9.513215   0.086785\n",
       "6843   13.00  15.453733  -2.453733\n",
       "\n",
       "[1732 rows x 3 columns]"
      ],
      "text/html": [
       "<div>\n",
       "<style scoped>\n",
       "    .dataframe tbody tr th:only-of-type {\n",
       "        vertical-align: middle;\n",
       "    }\n",
       "\n",
       "    .dataframe tbody tr th {\n",
       "        vertical-align: top;\n",
       "    }\n",
       "\n",
       "    .dataframe thead th {\n",
       "        text-align: right;\n",
       "    }\n",
       "</style>\n",
       "<table border=\"1\" class=\"dataframe\">\n",
       "  <thead>\n",
       "    <tr style=\"text-align: right;\">\n",
       "      <th></th>\n",
       "      <th>Actual</th>\n",
       "      <th>Predicted</th>\n",
       "      <th>Residuals</th>\n",
       "    </tr>\n",
       "  </thead>\n",
       "  <tbody>\n",
       "    <tr>\n",
       "      <th>7442</th>\n",
       "      <td>13.00</td>\n",
       "      <td>16.661245</td>\n",
       "      <td>-3.661245</td>\n",
       "    </tr>\n",
       "    <tr>\n",
       "      <th>7874</th>\n",
       "      <td>57.23</td>\n",
       "      <td>67.616676</td>\n",
       "      <td>-10.386676</td>\n",
       "    </tr>\n",
       "    <tr>\n",
       "      <th>3884</th>\n",
       "      <td>77.01</td>\n",
       "      <td>52.034290</td>\n",
       "      <td>24.975710</td>\n",
       "    </tr>\n",
       "    <tr>\n",
       "      <th>7787</th>\n",
       "      <td>15.95</td>\n",
       "      <td>16.566023</td>\n",
       "      <td>-0.616023</td>\n",
       "    </tr>\n",
       "    <tr>\n",
       "      <th>5178</th>\n",
       "      <td>26.00</td>\n",
       "      <td>35.550343</td>\n",
       "      <td>-9.550343</td>\n",
       "    </tr>\n",
       "    <tr>\n",
       "      <th>...</th>\n",
       "      <td>...</td>\n",
       "      <td>...</td>\n",
       "      <td>...</td>\n",
       "    </tr>\n",
       "    <tr>\n",
       "      <th>5269</th>\n",
       "      <td>31.90</td>\n",
       "      <td>59.617592</td>\n",
       "      <td>-27.717592</td>\n",
       "    </tr>\n",
       "    <tr>\n",
       "      <th>4297</th>\n",
       "      <td>8.53</td>\n",
       "      <td>10.429618</td>\n",
       "      <td>-1.899618</td>\n",
       "    </tr>\n",
       "    <tr>\n",
       "      <th>7569</th>\n",
       "      <td>19.95</td>\n",
       "      <td>39.380936</td>\n",
       "      <td>-19.430936</td>\n",
       "    </tr>\n",
       "    <tr>\n",
       "      <th>1901</th>\n",
       "      <td>9.60</td>\n",
       "      <td>9.513215</td>\n",
       "      <td>0.086785</td>\n",
       "    </tr>\n",
       "    <tr>\n",
       "      <th>6843</th>\n",
       "      <td>13.00</td>\n",
       "      <td>15.453733</td>\n",
       "      <td>-2.453733</td>\n",
       "    </tr>\n",
       "  </tbody>\n",
       "</table>\n",
       "<p>1732 rows × 3 columns</p>\n",
       "</div>"
      ]
     },
     "execution_count": 61,
     "metadata": {},
     "output_type": "execute_result"
    }
   ],
   "execution_count": 61
  },
  {
   "metadata": {
    "ExecuteTime": {
     "end_time": "2025-01-24T01:21:53.056785Z",
     "start_time": "2025-01-24T01:21:52.824094Z"
    }
   },
   "cell_type": "code",
   "source": [
    "import matplotlib.pyplot as plt\n",
    "import seaborn as sns\n",
    "\n",
    "sns.scatterplot(x=y_pred_scaled, y=residuals, alpha=0.6)\n",
    "plt.axhline(0, color='red', linestyle='--', linewidth=1.5)\n",
    "plt.title('Residuals vs. Predicted Values')\n",
    "plt.xlabel('Predicted Values')\n",
    "plt.ylabel('Residuals')\n",
    "plt.show()"
   ],
   "id": "d21b61951efe5216",
   "outputs": [
    {
     "data": {
      "text/plain": [
       "<Figure size 640x480 with 1 Axes>"
      ],
      "image/png": "[encoded data removed]"
     },
     "metadata": {},
     "output_type": "display_data"
    }
   ],
   "execution_count": 63
  },
  {
   "metadata": {},
   "cell_type": "markdown",
   "source": "Seems like as the values start to get past the 100 mark the residuals get really far from the target line. Let's remove those wines from the dataset and re-train the model and see if it performs better. Let's set a threshold for the dataset using standard deviations from the residual mean",
   "id": "c2c1a2c234fac201"
  },
  {
   "metadata": {
    "ExecuteTime": {
     "end_time": "2025-01-24T01:29:44.055078Z",
     "start_time": "2025-01-24T01:29:44.039452Z"
    }
   },
   "cell_type": "code",
   "source": [
    "y_train_pred = best_model.predict(X_train)\n",
    "\n",
    "y_train_scaled = np.expm1(y_train)\n",
    "y_train_prediction_scaled = np.expm1(y_train_pred)\n",
    "\n",
    "train_residuals = y_train_scaled - y_train_prediction_scaled"
   ],
   "id": "e6bbcd73b1047561",
   "outputs": [],
   "execution_count": 70
  },
  {
   "metadata": {
    "ExecuteTime": {
     "end_time": "2025-01-24T01:29:58.987332Z",
     "start_time": "2025-01-24T01:29:58.971704Z"
    }
   },
   "cell_type": "code",
   "source": [
    "threshold = train_residuals.std() * 3\n",
    "threshold"
   ],
   "id": "1045b8c2a4efea89",
   "outputs": [
    {
     "data": {
      "text/plain": [
       "83.88164046148108"
      ]
     },
     "execution_count": 72,
     "metadata": {},
     "output_type": "execute_result"
    }
   ],
   "execution_count": 72
  },
  {
   "metadata": {},
   "cell_type": "markdown",
   "source": "That value seems about right. Anything past that value seems to struggle",
   "id": "5731b21abd232541"
  },
  {
   "metadata": {
    "ExecuteTime": {
     "end_time": "2025-01-24T01:30:33.746613Z",
     "start_time": "2025-01-24T01:30:33.714979Z"
    }
   },
   "cell_type": "code",
   "source": "below_threshold_mask = train_residuals.abs() <= threshold",
   "id": "297a9a6b1356bee7",
   "outputs": [],
   "execution_count": 73
  },
  {
   "metadata": {
    "ExecuteTime": {
     "end_time": "2025-01-24T01:30:43.240219Z",
     "start_time": "2025-01-24T01:30:43.208584Z"
    }
   },
   "cell_type": "code",
   "source": [
    "X_train_filtered = X_train[below_threshold_mask]\n",
    "y_train_filtered = y_train[below_threshold_mask]"
   ],
   "id": "b5e6004770d9de6b",
   "outputs": [],
   "execution_count": 74
  },
  {
   "metadata": {
    "ExecuteTime": {
     "end_time": "2025-01-24T01:31:15.201014Z",
     "start_time": "2025-01-24T01:31:15.185375Z"
    }
   },
   "cell_type": "code",
   "source": "regressor = XGBRegressor(random_state = 123)",
   "id": "90165f4d8e3ce99b",
   "outputs": [],
   "execution_count": 75
  },
  {
   "metadata": {
    "ExecuteTime": {
     "end_time": "2025-01-24T01:32:29.117017Z",
     "start_time": "2025-01-24T01:31:29.916152Z"
    }
   },
   "cell_type": "code",
   "source": [
    "grid_search = GridSearchCV(estimator = regressor, param_grid= param_grid)\n",
    "grid_search.fit(X_train_filtered, y_train_filtered)\n",
    "\n",
    "best_parameters= grid_search.best_params_\n",
    "best_model = grid_search.best_estimator_"
   ],
   "id": "a16713b9d5e9583a",
   "outputs": [],
   "execution_count": 76
  },
  {
   "metadata": {
    "ExecuteTime": {
     "end_time": "2025-01-24T01:33:14.339158Z",
     "start_time": "2025-01-24T01:33:14.323523Z"
    }
   },
   "cell_type": "code",
   "source": "y_test_pred = best_model.predict(X_test)",
   "id": "aef4cd6edac6a79a",
   "outputs": [],
   "execution_count": 77
  },
  {
   "metadata": {
    "ExecuteTime": {
     "end_time": "2025-01-24T01:33:35.374677Z",
     "start_time": "2025-01-24T01:33:35.364675Z"
    }
   },
   "cell_type": "code",
   "source": [
    "y_test_pred_scaled = np.expm1(y_test_pred)\n",
    "y_test_original_scale = np.expm1(y_test)"
   ],
   "id": "61a501ca2188ae5b",
   "outputs": [],
   "execution_count": 78
  },
  {
   "metadata": {
    "ExecuteTime": {
     "end_time": "2025-01-24T01:34:34.811674Z",
     "start_time": "2025-01-24T01:34:34.796032Z"
    }
   },
   "cell_type": "code",
   "source": [
    "mae = mean_absolute_error(y_test_original_scale, y_test_pred_scaled)\n",
    "mse = mean_squared_error(y_test_original_scale, y_test_pred_scaled, squared=False)\n",
    "r2 = r2_score(y_test_original_scale, y_test_pred_scaled)\n",
    "\n",
    "print(f'MAE Score: {mae}')\n",
    "print(f'MSE Score: {mse}')\n",
    "print(f'R2 Score: {r2}')"
   ],
   "id": "820128ac4baa4adc",
   "outputs": [
    {
     "name": "stdout",
     "output_type": "stream",
     "text": [
      "MAE Score: 13.804195600007477\n",
      "MSE Score: 49.171853281073425\n",
      "R2 Score: 0.6130370300097964\n"
     ]
    }
   ],
   "execution_count": 79
  },
  {
   "metadata": {},
   "cell_type": "markdown",
   "source": "Not too bad. Seems like we're doing better. Effectively, the model is performing alright given that we have limited the input test/train data to the values below the 'threshold' we've established. Let's take a look at hyperparameter tuning again. The training time is only 1 min so I'd like to expand upon it.",
   "id": "9099124890ea6bd7"
  },
  {
   "metadata": {
    "ExecuteTime": {
     "end_time": "2025-01-24T02:04:07.843845Z",
     "start_time": "2025-01-24T02:04:07.828216Z"
    }
   },
   "cell_type": "code",
   "source": [
    "param_grid = {\n",
    "    'n_estimators': [100, 200, 300],               \n",
    "    'learning_rate': [0.01, 0.05, 0.1],           \n",
    "    'max_depth': [3, 5, 7],                       \n",
    "    'subsample': [0.8, 1.0],                     \n",
    "    'colsample_bytree': [0.8, 1.0],        \n",
    "    'gamma': [0, 0.1],   \n",
    "    'min_child_weight': [1, 3]}"
   ],
   "id": "453b22cc18e2874e",
   "outputs": [],
   "execution_count": 83
  },
  {
   "metadata": {
    "ExecuteTime": {
     "end_time": "2025-01-24T02:04:08.987417Z",
     "start_time": "2025-01-24T02:04:08.971790Z"
    }
   },
   "cell_type": "code",
   "source": "regressor = XGBRegressor(random_state = 123)",
   "id": "e0f512e5c1f4b486",
   "outputs": [],
   "execution_count": 84
  },
  {
   "metadata": {
    "ExecuteTime": {
     "end_time": "2025-01-24T02:07:44.220047Z",
     "start_time": "2025-01-24T02:04:10.044108Z"
    }
   },
   "cell_type": "code",
   "source": [
    "grid_search = GridSearchCV(estimator = regressor, param_grid= param_grid)\n",
    "grid_search.fit(X_train_filtered, y_train_filtered)\n",
    "\n",
    "best_parameters= grid_search.best_params_\n",
    "best_model = grid_search.best_estimator_"
   ],
   "id": "53114e05f9d78ad3",
   "outputs": [],
   "execution_count": 85
  },
  {
   "metadata": {
    "ExecuteTime": {
     "end_time": "2025-01-24T02:39:39.484498Z",
     "start_time": "2025-01-24T02:39:39.468873Z"
    }
   },
   "cell_type": "code",
   "source": "y_test_pred = best_model.predict(X_test)",
   "id": "2ef36afb59c20dc6",
   "outputs": [],
   "execution_count": 86
  },
  {
   "metadata": {
    "ExecuteTime": {
     "end_time": "2025-01-24T02:39:47.860044Z",
     "start_time": "2025-01-24T02:39:47.844417Z"
    }
   },
   "cell_type": "code",
   "source": [
    "y_test_pred_scaled = np.expm1(y_test_pred)\n",
    "y_test_original_scale = np.expm1(y_test)"
   ],
   "id": "3ea9959416c829bb",
   "outputs": [],
   "execution_count": 87
  },
  {
   "metadata": {
    "ExecuteTime": {
     "end_time": "2025-01-24T02:39:53.820020Z",
     "start_time": "2025-01-24T02:39:53.804395Z"
    }
   },
   "cell_type": "code",
   "source": [
    "mae = mean_absolute_error(y_test_original_scale, y_test_pred_scaled)\n",
    "mse = mean_squared_error(y_test_original_scale, y_test_pred_scaled, squared=False)\n",
    "r2 = r2_score(y_test_original_scale, y_test_pred_scaled)\n",
    "\n",
    "print(f'MAE Score: {mae}')\n",
    "print(f'MSE Score: {mse}')\n",
    "print(f'R2 Score: {r2}')"
   ],
   "id": "43a429536d5d4414",
   "outputs": [
    {
     "name": "stdout",
     "output_type": "stream",
     "text": [
      "MAE Score: 13.804195600007477\n",
      "MSE Score: 49.171853281073425\n",
      "R2 Score: 0.6130370300097964\n"
     ]
    }
   ],
   "execution_count": 88
  },
  {
   "metadata": {},
   "cell_type": "markdown",
   "source": "Alright, no change here. Let's see how the model is performing for overfitting",
   "id": "f341e9190167d2cb"
  },
  {
   "metadata": {
    "ExecuteTime": {
     "end_time": "2025-01-24T02:43:15.310254Z",
     "start_time": "2025-01-24T02:43:15.294629Z"
    }
   },
   "cell_type": "code",
   "source": [
    "y_train_pred = best_model.predict(X_train)\n",
    "y_train_pred_scaled = np.expm1(y_train_pred)\n",
    "\n",
    "mae_train = mean_absolute_error(y_train_scaled, y_train_pred_scaled)\n",
    "\n",
    "print(mae_train)"
   ],
   "id": "b93b646ff176ca06",
   "outputs": [
    {
     "name": "stdout",
     "output_type": "stream",
     "text": [
      "9.968995618010547\n"
     ]
    }
   ],
   "execution_count": 90
  },
  {
   "metadata": {
    "ExecuteTime": {
     "end_time": "2025-01-24T02:46:13.886659Z",
     "start_time": "2025-01-24T02:46:13.871032Z"
    }
   },
   "cell_type": "code",
   "source": [
    "diff = mae - mae_train\n",
    "print(diff)"
   ],
   "id": "7001138d061f66b",
   "outputs": [
    {
     "name": "stdout",
     "output_type": "stream",
     "text": [
      "3.8351999819969294\n"
     ]
    }
   ],
   "execution_count": 94
  },
  {
   "metadata": {
    "ExecuteTime": {
     "end_time": "2025-01-24T02:46:29.400086Z",
     "start_time": "2025-01-24T02:46:29.384460Z"
    }
   },
   "cell_type": "code",
   "source": [
    "# find the relative difference\n",
    "average = eng_data['Price'].mean()\n",
    "\n",
    "(diff/average) * 100"
   ],
   "id": "226ac3c1d0767612",
   "outputs": [
    {
     "data": {
      "text/plain": [
       "9.796221424779182"
      ]
     },
     "execution_count": 95,
     "metadata": {},
     "output_type": "execute_result"
    }
   ],
   "execution_count": 95
  },
  {
   "metadata": {},
   "cell_type": "markdown",
   "source": "And there we have it, not bad. There's a relative difference of 9.80% which suggests the model may slightly overfit the data, but still performs reasonably well. ",
   "id": "a15369e4b98eb9d9"
  },
  {
   "metadata": {},
   "cell_type": "code",
   "outputs": [],
   "execution_count": null,
   "source": "",
   "id": "308f9f677eab031d"
  }
 ],
 "metadata": {
  "kernelspec": {
   "display_name": "Python 3",
   "language": "python",
   "name": "python3"
  },
  "language_info": {
   "codemirror_mode": {
    "name": "ipython",
    "version": 2
   },
   "file_extension": ".py",
   "mimetype": "text/x-python",
   "name": "python",
   "nbconvert_exporter": "python",
   "pygments_lexer": "ipython2",
   "version": "2.7.6"
  }
 },
 "nbformat": 4,
 "nbformat_minor": 5
}
