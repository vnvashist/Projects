{
 "cells": [
  {
   "cell_type": "markdown",
   "source": [
    "Alpha Vantage API KEY: R9072PNN6E5D0TZC"
   ],
   "metadata": {
    "collapsed": false
   }
  },
  {
   "cell_type": "code",
   "execution_count": 45,
   "outputs": [],
   "source": [
    "import requests\n",
    "import pandas as pd\n",
    "import yfinance as yf\n",
    "import numpy as np\n",
    "from xgboost import XGBClassifier, XGBRegressor\n",
    "from sklearn.metrics import mean_absolute_error\n",
    "from sklearn.model_selection import train_test_split\n",
    "from sklearn.model_selection import RandomizedSearchCV"
   ],
   "metadata": {
    "collapsed": false
   }
  },
  {
   "cell_type": "code",
   "execution_count": 16,
   "outputs": [],
   "source": [
    "symbol = 'AAPL'"
   ],
   "metadata": {
    "collapsed": false
   }
  },
  {
   "cell_type": "code",
   "execution_count": 25,
   "outputs": [
    {
     "name": "stderr",
     "output_type": "stream",
     "text": [
      "[*********************100%***********************]  1 of 1 completed\n"
     ]
    }
   ],
   "source": [
    "data = yf.download(symbol, start=\"1980-12-12\", end=\"2023-10-26\", interval='1d')"
   ],
   "metadata": {
    "collapsed": false
   }
  },
  {
   "cell_type": "code",
   "execution_count": 31,
   "outputs": [],
   "source": [
    "data.reset_index(inplace=True)"
   ],
   "metadata": {
    "collapsed": false
   }
  },
  {
   "cell_type": "code",
   "execution_count": 35,
   "outputs": [
    {
     "data": {
      "text/plain": "Price                       Date   Adj Close       Close        High  \\\nTicker                                  AAPL        AAPL        AAPL   \n0      1980-12-12 00:00:00+00:00    0.098943    0.128348    0.128906   \n1      1980-12-15 00:00:00+00:00    0.093781    0.121652    0.122210   \n2      1980-12-16 00:00:00+00:00    0.086898    0.112723    0.113281   \n3      1980-12-17 00:00:00+00:00    0.089049    0.115513    0.116071   \n4      1980-12-18 00:00:00+00:00    0.091630    0.118862    0.119420   \n...                          ...         ...         ...         ...   \n10803  2023-10-19 00:00:00+00:00  174.566727  175.460007  177.839996   \n10804  2023-10-20 00:00:00+00:00  171.999863  172.880005  175.419998   \n10805  2023-10-23 00:00:00+00:00  172.119247  173.000000  174.009995   \n10806  2023-10-24 00:00:00+00:00  172.556992  173.440002  173.669998   \n10807  2023-10-25 00:00:00+00:00  170.228928  171.100006  173.059998   \n\nPrice          Low        Open     Volume  \nTicker        AAPL        AAPL       AAPL  \n0         0.128348    0.128348  469033600  \n1         0.121652    0.122210  175884800  \n2         0.112723    0.113281  105728000  \n3         0.115513    0.115513   86441600  \n4         0.118862    0.118862   73449600  \n...            ...         ...        ...  \n10803   175.190002  176.039993   59302900  \n10804   172.639999  175.309998   64189300  \n10805   169.929993  170.910004   55980100  \n10806   171.449997  173.050003   43816600  \n10807   170.649994  171.880005   57157000  \n\n[10808 rows x 7 columns]",
      "text/html": "<div>\n<style scoped>\n    .dataframe tbody tr th:only-of-type {\n        vertical-align: middle;\n    }\n\n    .dataframe tbody tr th {\n        vertical-align: top;\n    }\n\n    .dataframe thead tr th {\n        text-align: left;\n    }\n</style>\n<table border=\"1\" class=\"dataframe\">\n  <thead>\n    <tr>\n      <th>Price</th>\n      <th>Date</th>\n      <th>Adj Close</th>\n      <th>Close</th>\n      <th>High</th>\n      <th>Low</th>\n      <th>Open</th>\n      <th>Volume</th>\n    </tr>\n    <tr>\n      <th>Ticker</th>\n      <th></th>\n      <th>AAPL</th>\n      <th>AAPL</th>\n      <th>AAPL</th>\n      <th>AAPL</th>\n      <th>AAPL</th>\n      <th>AAPL</th>\n    </tr>\n  </thead>\n  <tbody>\n    <tr>\n      <th>0</th>\n      <td>1980-12-12 00:00:00+00:00</td>\n      <td>0.098943</td>\n      <td>0.128348</td>\n      <td>0.128906</td>\n      <td>0.128348</td>\n      <td>0.128348</td>\n      <td>469033600</td>\n    </tr>\n    <tr>\n      <th>1</th>\n      <td>1980-12-15 00:00:00+00:00</td>\n      <td>0.093781</td>\n      <td>0.121652</td>\n      <td>0.122210</td>\n      <td>0.121652</td>\n      <td>0.122210</td>\n      <td>175884800</td>\n    </tr>\n    <tr>\n      <th>2</th>\n      <td>1980-12-16 00:00:00+00:00</td>\n      <td>0.086898</td>\n      <td>0.112723</td>\n      <td>0.113281</td>\n      <td>0.112723</td>\n      <td>0.113281</td>\n      <td>105728000</td>\n    </tr>\n    <tr>\n      <th>3</th>\n      <td>1980-12-17 00:00:00+00:00</td>\n      <td>0.089049</td>\n      <td>0.115513</td>\n      <td>0.116071</td>\n      <td>0.115513</td>\n      <td>0.115513</td>\n      <td>86441600</td>\n    </tr>\n    <tr>\n      <th>4</th>\n      <td>1980-12-18 00:00:00+00:00</td>\n      <td>0.091630</td>\n      <td>0.118862</td>\n      <td>0.119420</td>\n      <td>0.118862</td>\n      <td>0.118862</td>\n      <td>73449600</td>\n    </tr>\n    <tr>\n      <th>...</th>\n      <td>...</td>\n      <td>...</td>\n      <td>...</td>\n      <td>...</td>\n      <td>...</td>\n      <td>...</td>\n      <td>...</td>\n    </tr>\n    <tr>\n      <th>10803</th>\n      <td>2023-10-19 00:00:00+00:00</td>\n      <td>174.566727</td>\n      <td>175.460007</td>\n      <td>177.839996</td>\n      <td>175.190002</td>\n      <td>176.039993</td>\n      <td>59302900</td>\n    </tr>\n    <tr>\n      <th>10804</th>\n      <td>2023-10-20 00:00:00+00:00</td>\n      <td>171.999863</td>\n      <td>172.880005</td>\n      <td>175.419998</td>\n      <td>172.639999</td>\n      <td>175.309998</td>\n      <td>64189300</td>\n    </tr>\n    <tr>\n      <th>10805</th>\n      <td>2023-10-23 00:00:00+00:00</td>\n      <td>172.119247</td>\n      <td>173.000000</td>\n      <td>174.009995</td>\n      <td>169.929993</td>\n      <td>170.910004</td>\n      <td>55980100</td>\n    </tr>\n    <tr>\n      <th>10806</th>\n      <td>2023-10-24 00:00:00+00:00</td>\n      <td>172.556992</td>\n      <td>173.440002</td>\n      <td>173.669998</td>\n      <td>171.449997</td>\n      <td>173.050003</td>\n      <td>43816600</td>\n    </tr>\n    <tr>\n      <th>10807</th>\n      <td>2023-10-25 00:00:00+00:00</td>\n      <td>170.228928</td>\n      <td>171.100006</td>\n      <td>173.059998</td>\n      <td>170.649994</td>\n      <td>171.880005</td>\n      <td>57157000</td>\n    </tr>\n  </tbody>\n</table>\n<p>10808 rows × 7 columns</p>\n</div>"
     },
     "execution_count": 35,
     "metadata": {},
     "output_type": "execute_result"
    }
   ],
   "source": [
    "data"
   ],
   "metadata": {
    "collapsed": false
   }
  },
  {
   "cell_type": "code",
   "execution_count": 36,
   "outputs": [],
   "source": [
    "model_data = data[['Date', 'Close']]"
   ],
   "metadata": {
    "collapsed": false
   }
  },
  {
   "cell_type": "code",
   "execution_count": 37,
   "outputs": [
    {
     "name": "stderr",
     "output_type": "stream",
     "text": [
      "C:\\Users\\Vashist\\AppData\\Local\\Temp\\ipykernel_13540\\3027388394.py:1: SettingWithCopyWarning: \n",
      "A value is trying to be set on a copy of a slice from a DataFrame.\n",
      "Try using .loc[row_indexer,col_indexer] = value instead\n",
      "\n",
      "See the caveats in the documentation: https://pandas.pydata.org/pandas-docs/stable/user_guide/indexing.html#returning-a-view-versus-a-copy\n",
      "  model_data['Close_next'] = data['Close'].shift(-1)\n",
      "C:\\Users\\Vashist\\AppData\\Local\\Temp\\ipykernel_13540\\3027388394.py:2: SettingWithCopyWarning: \n",
      "A value is trying to be set on a copy of a slice from a DataFrame.\n",
      "Try using .loc[row_indexer,col_indexer] = value instead\n",
      "\n",
      "See the caveats in the documentation: https://pandas.pydata.org/pandas-docs/stable/user_guide/indexing.html#returning-a-view-versus-a-copy\n",
      "  model_data['Close_1d_ago'] = data['Close'].shift(1)\n",
      "C:\\Users\\Vashist\\AppData\\Local\\Temp\\ipykernel_13540\\3027388394.py:3: SettingWithCopyWarning: \n",
      "A value is trying to be set on a copy of a slice from a DataFrame.\n",
      "Try using .loc[row_indexer,col_indexer] = value instead\n",
      "\n",
      "See the caveats in the documentation: https://pandas.pydata.org/pandas-docs/stable/user_guide/indexing.html#returning-a-view-versus-a-copy\n",
      "  model_data['Close_2d_ago'] = data['Close'].shift(2)\n",
      "C:\\Users\\Vashist\\AppData\\Local\\Temp\\ipykernel_13540\\3027388394.py:4: SettingWithCopyWarning: \n",
      "A value is trying to be set on a copy of a slice from a DataFrame.\n",
      "Try using .loc[row_indexer,col_indexer] = value instead\n",
      "\n",
      "See the caveats in the documentation: https://pandas.pydata.org/pandas-docs/stable/user_guide/indexing.html#returning-a-view-versus-a-copy\n",
      "  model_data['Close_3d_ago'] = data['Close'].shift(3)\n"
     ]
    }
   ],
   "source": [
    "model_data['Close_next'] = data['Close'].shift(-1)\n",
    "model_data['Close_1d_ago'] = data['Close'].shift(1)\n",
    "model_data['Close_2d_ago'] = data['Close'].shift(2)\n",
    "model_data['Close_3d_ago'] = data['Close'].shift(3)"
   ],
   "metadata": {
    "collapsed": false
   }
  },
  {
   "cell_type": "code",
   "execution_count": 39,
   "outputs": [
    {
     "name": "stderr",
     "output_type": "stream",
     "text": [
      "C:\\Users\\Vashist\\AppData\\Local\\Temp\\ipykernel_13540\\3310783176.py:1: SettingWithCopyWarning: \n",
      "A value is trying to be set on a copy of a slice from a DataFrame\n",
      "\n",
      "See the caveats in the documentation: https://pandas.pydata.org/pandas-docs/stable/user_guide/indexing.html#returning-a-view-versus-a-copy\n",
      "  model_data.dropna(inplace=True)\n"
     ]
    }
   ],
   "source": [
    "model_data.dropna(inplace=True)"
   ],
   "metadata": {
    "collapsed": false
   }
  },
  {
   "cell_type": "code",
   "execution_count": 40,
   "outputs": [
    {
     "data": {
      "text/plain": "Price                       Date       Close  Close_next Close_1d_ago  \\\nTicker                                  AAPL                            \n3      1980-12-17 00:00:00+00:00    0.115513    0.118862     0.112723   \n4      1980-12-18 00:00:00+00:00    0.118862    0.126116     0.115513   \n5      1980-12-19 00:00:00+00:00    0.126116    0.132254     0.118862   \n6      1980-12-22 00:00:00+00:00    0.132254    0.137835     0.126116   \n7      1980-12-23 00:00:00+00:00    0.137835    0.145089     0.132254   \n...                          ...         ...         ...          ...   \n10802  2023-10-18 00:00:00+00:00  175.839996  175.460007   177.149994   \n10803  2023-10-19 00:00:00+00:00  175.460007  172.880005   175.839996   \n10804  2023-10-20 00:00:00+00:00  172.880005  173.000000   175.460007   \n10805  2023-10-23 00:00:00+00:00  173.000000  173.440002   172.880005   \n10806  2023-10-24 00:00:00+00:00  173.440002  171.100006   173.000000   \n\nPrice  Close_2d_ago Close_3d_ago  \nTicker                            \n3          0.121652     0.128348  \n4          0.112723     0.121652  \n5          0.115513     0.112723  \n6          0.118862     0.115513  \n7          0.126116     0.118862  \n...             ...          ...  \n10802    178.720001   178.850006  \n10803    177.149994   178.720001  \n10804    175.839996   177.149994  \n10805    175.460007   175.839996  \n10806    172.880005   175.460007  \n\n[10804 rows x 6 columns]",
      "text/html": "<div>\n<style scoped>\n    .dataframe tbody tr th:only-of-type {\n        vertical-align: middle;\n    }\n\n    .dataframe tbody tr th {\n        vertical-align: top;\n    }\n\n    .dataframe thead tr th {\n        text-align: left;\n    }\n</style>\n<table border=\"1\" class=\"dataframe\">\n  <thead>\n    <tr>\n      <th>Price</th>\n      <th>Date</th>\n      <th>Close</th>\n      <th>Close_next</th>\n      <th>Close_1d_ago</th>\n      <th>Close_2d_ago</th>\n      <th>Close_3d_ago</th>\n    </tr>\n    <tr>\n      <th>Ticker</th>\n      <th></th>\n      <th>AAPL</th>\n      <th></th>\n      <th></th>\n      <th></th>\n      <th></th>\n    </tr>\n  </thead>\n  <tbody>\n    <tr>\n      <th>3</th>\n      <td>1980-12-17 00:00:00+00:00</td>\n      <td>0.115513</td>\n      <td>0.118862</td>\n      <td>0.112723</td>\n      <td>0.121652</td>\n      <td>0.128348</td>\n    </tr>\n    <tr>\n      <th>4</th>\n      <td>1980-12-18 00:00:00+00:00</td>\n      <td>0.118862</td>\n      <td>0.126116</td>\n      <td>0.115513</td>\n      <td>0.112723</td>\n      <td>0.121652</td>\n    </tr>\n    <tr>\n      <th>5</th>\n      <td>1980-12-19 00:00:00+00:00</td>\n      <td>0.126116</td>\n      <td>0.132254</td>\n      <td>0.118862</td>\n      <td>0.115513</td>\n      <td>0.112723</td>\n    </tr>\n    <tr>\n      <th>6</th>\n      <td>1980-12-22 00:00:00+00:00</td>\n      <td>0.132254</td>\n      <td>0.137835</td>\n      <td>0.126116</td>\n      <td>0.118862</td>\n      <td>0.115513</td>\n    </tr>\n    <tr>\n      <th>7</th>\n      <td>1980-12-23 00:00:00+00:00</td>\n      <td>0.137835</td>\n      <td>0.145089</td>\n      <td>0.132254</td>\n      <td>0.126116</td>\n      <td>0.118862</td>\n    </tr>\n    <tr>\n      <th>...</th>\n      <td>...</td>\n      <td>...</td>\n      <td>...</td>\n      <td>...</td>\n      <td>...</td>\n      <td>...</td>\n    </tr>\n    <tr>\n      <th>10802</th>\n      <td>2023-10-18 00:00:00+00:00</td>\n      <td>175.839996</td>\n      <td>175.460007</td>\n      <td>177.149994</td>\n      <td>178.720001</td>\n      <td>178.850006</td>\n    </tr>\n    <tr>\n      <th>10803</th>\n      <td>2023-10-19 00:00:00+00:00</td>\n      <td>175.460007</td>\n      <td>172.880005</td>\n      <td>175.839996</td>\n      <td>177.149994</td>\n      <td>178.720001</td>\n    </tr>\n    <tr>\n      <th>10804</th>\n      <td>2023-10-20 00:00:00+00:00</td>\n      <td>172.880005</td>\n      <td>173.000000</td>\n      <td>175.460007</td>\n      <td>175.839996</td>\n      <td>177.149994</td>\n    </tr>\n    <tr>\n      <th>10805</th>\n      <td>2023-10-23 00:00:00+00:00</td>\n      <td>173.000000</td>\n      <td>173.440002</td>\n      <td>172.880005</td>\n      <td>175.460007</td>\n      <td>175.839996</td>\n    </tr>\n    <tr>\n      <th>10806</th>\n      <td>2023-10-24 00:00:00+00:00</td>\n      <td>173.440002</td>\n      <td>171.100006</td>\n      <td>173.000000</td>\n      <td>172.880005</td>\n      <td>175.460007</td>\n    </tr>\n  </tbody>\n</table>\n<p>10804 rows × 6 columns</p>\n</div>"
     },
     "execution_count": 40,
     "metadata": {},
     "output_type": "execute_result"
    }
   ],
   "source": [
    "model_data"
   ],
   "metadata": {
    "collapsed": false
   }
  },
  {
   "cell_type": "code",
   "execution_count": 41,
   "outputs": [],
   "source": [
    "X = model_data[['Close', 'Close_1d_ago', 'Close_2d_ago', 'Close_3d_ago']]\n",
    "y = model_data['Close_next']"
   ],
   "metadata": {
    "collapsed": false
   }
  },
  {
   "cell_type": "code",
   "execution_count": 42,
   "outputs": [],
   "source": [
    "X_train, X_test, y_train, y_test = train_test_split(X, y, test_size=0.3, shuffle=False)"
   ],
   "metadata": {
    "collapsed": false
   }
  },
  {
   "cell_type": "code",
   "execution_count": 43,
   "outputs": [],
   "source": [
    "param_grid = {\n",
    "    'n_estimators': [50, 100, 200, 300],\n",
    "    'max_depth': [3, 4, 5, 6, 7, 8, 10],\n",
    "    'learning_rate': [0.01, 0.05, 0.1, 0.2],\n",
    "    'subsample': [0.6, 0.7, 0.8, 0.9, 1.0],\n",
    "    'colsample_bytree': [0.6, 0.7, 0.8, 0.9, 1.0],\n",
    "    'gamma': [0, 0.1, 0.2, 0.3, 0.4]\n",
    "}"
   ],
   "metadata": {
    "collapsed": false
   }
  },
  {
   "cell_type": "code",
   "execution_count": 46,
   "outputs": [],
   "source": [
    "xgb_model = XGBRegressor(objective='reg:squarederror')\n",
    "random_search = RandomizedSearchCV(estimator=xgb_model, param_distributions=param_grid,\n",
    "    n_iter=50, scoring='neg_mean_absolute_error', cv=3, verbose=1, random_state=42, n_jobs=-1)"
   ],
   "metadata": {
    "collapsed": false
   }
  },
  {
   "cell_type": "code",
   "execution_count": 47,
   "outputs": [
    {
     "name": "stdout",
     "output_type": "stream",
     "text": [
      "Fitting 3 folds for each of 50 candidates, totalling 150 fits\n"
     ]
    },
    {
     "data": {
      "text/plain": "RandomizedSearchCV(cv=3,\n                   estimator=XGBRegressor(base_score=None, booster=None,\n                                          callbacks=None,\n                                          colsample_bylevel=None,\n                                          colsample_bynode=None,\n                                          colsample_bytree=None, device=None,\n                                          early_stopping_rounds=None,\n                                          enable_categorical=False,\n                                          eval_metric=None, feature_types=None,\n                                          gamma=None, grow_policy=None,\n                                          importance_type=None,\n                                          interaction_constraints=None,\n                                          learning_rate=...\n                                          n_estimators=None, n_jobs=None,\n                                          num_parallel_tree=None,\n                                          random_state=None, ...),\n                   n_iter=50, n_jobs=-1,\n                   param_distributions={'colsample_bytree': [0.6, 0.7, 0.8, 0.9,\n                                                             1.0],\n                                        'gamma': [0, 0.1, 0.2, 0.3, 0.4],\n                                        'learning_rate': [0.01, 0.05, 0.1, 0.2],\n                                        'max_depth': [3, 4, 5, 6, 7, 8, 10],\n                                        'n_estimators': [50, 100, 200, 300],\n                                        'subsample': [0.6, 0.7, 0.8, 0.9, 1.0]},\n                   random_state=42, scoring='neg_mean_absolute_error',\n                   verbose=1)",
      "text/html": "<style>#sk-container-id-1 {color: black;}#sk-container-id-1 pre{padding: 0;}#sk-container-id-1 div.sk-toggleable {background-color: white;}#sk-container-id-1 label.sk-toggleable__label {cursor: pointer;display: block;width: 100%;margin-bottom: 0;padding: 0.3em;box-sizing: border-box;text-align: center;}#sk-container-id-1 label.sk-toggleable__label-arrow:before {content: \"▸\";float: left;margin-right: 0.25em;color: #696969;}#sk-container-id-1 label.sk-toggleable__label-arrow:hover:before {color: black;}#sk-container-id-1 div.sk-estimator:hover label.sk-toggleable__label-arrow:before {color: black;}#sk-container-id-1 div.sk-toggleable__content {max-height: 0;max-width: 0;overflow: hidden;text-align: left;background-color: #f0f8ff;}#sk-container-id-1 div.sk-toggleable__content pre {margin: 0.2em;color: black;border-radius: 0.25em;background-color: #f0f8ff;}#sk-container-id-1 input.sk-toggleable__control:checked~div.sk-toggleable__content {max-height: 200px;max-width: 100%;overflow: auto;}#sk-container-id-1 input.sk-toggleable__control:checked~label.sk-toggleable__label-arrow:before {content: \"▾\";}#sk-container-id-1 div.sk-estimator input.sk-toggleable__control:checked~label.sk-toggleable__label {background-color: #d4ebff;}#sk-container-id-1 div.sk-label input.sk-toggleable__control:checked~label.sk-toggleable__label {background-color: #d4ebff;}#sk-container-id-1 input.sk-hidden--visually {border: 0;clip: rect(1px 1px 1px 1px);clip: rect(1px, 1px, 1px, 1px);height: 1px;margin: -1px;overflow: hidden;padding: 0;position: absolute;width: 1px;}#sk-container-id-1 div.sk-estimator {font-family: monospace;background-color: #f0f8ff;border: 1px dotted black;border-radius: 0.25em;box-sizing: border-box;margin-bottom: 0.5em;}#sk-container-id-1 div.sk-estimator:hover {background-color: #d4ebff;}#sk-container-id-1 div.sk-parallel-item::after {content: \"\";width: 100%;border-bottom: 1px solid gray;flex-grow: 1;}#sk-container-id-1 div.sk-label:hover label.sk-toggleable__label {background-color: #d4ebff;}#sk-container-id-1 div.sk-serial::before {content: \"\";position: absolute;border-left: 1px solid gray;box-sizing: border-box;top: 0;bottom: 0;left: 50%;z-index: 0;}#sk-container-id-1 div.sk-serial {display: flex;flex-direction: column;align-items: center;background-color: white;padding-right: 0.2em;padding-left: 0.2em;position: relative;}#sk-container-id-1 div.sk-item {position: relative;z-index: 1;}#sk-container-id-1 div.sk-parallel {display: flex;align-items: stretch;justify-content: center;background-color: white;position: relative;}#sk-container-id-1 div.sk-item::before, #sk-container-id-1 div.sk-parallel-item::before {content: \"\";position: absolute;border-left: 1px solid gray;box-sizing: border-box;top: 0;bottom: 0;left: 50%;z-index: -1;}#sk-container-id-1 div.sk-parallel-item {display: flex;flex-direction: column;z-index: 1;position: relative;background-color: white;}#sk-container-id-1 div.sk-parallel-item:first-child::after {align-self: flex-end;width: 50%;}#sk-container-id-1 div.sk-parallel-item:last-child::after {align-self: flex-start;width: 50%;}#sk-container-id-1 div.sk-parallel-item:only-child::after {width: 0;}#sk-container-id-1 div.sk-dashed-wrapped {border: 1px dashed gray;margin: 0 0.4em 0.5em 0.4em;box-sizing: border-box;padding-bottom: 0.4em;background-color: white;}#sk-container-id-1 div.sk-label label {font-family: monospace;font-weight: bold;display: inline-block;line-height: 1.2em;}#sk-container-id-1 div.sk-label-container {text-align: center;}#sk-container-id-1 div.sk-container {/* jupyter's `normalize.less` sets `[hidden] { display: none; }` but bootstrap.min.css set `[hidden] { display: none !important; }` so we also need the `!important` here to be able to override the default hidden behavior on the sphinx rendered scikit-learn.org. See: https://github.com/scikit-learn/scikit-learn/issues/21755 */display: inline-block !important;position: relative;}#sk-container-id-1 div.sk-text-repr-fallback {display: none;}</style><div id=\"sk-container-id-1\" class=\"sk-top-container\"><div class=\"sk-text-repr-fallback\"><pre>RandomizedSearchCV(cv=3,\n                   estimator=XGBRegressor(base_score=None, booster=None,\n                                          callbacks=None,\n                                          colsample_bylevel=None,\n                                          colsample_bynode=None,\n                                          colsample_bytree=None, device=None,\n                                          early_stopping_rounds=None,\n                                          enable_categorical=False,\n                                          eval_metric=None, feature_types=None,\n                                          gamma=None, grow_policy=None,\n                                          importance_type=None,\n                                          interaction_constraints=None,\n                                          learning_rate=...\n                                          n_estimators=None, n_jobs=None,\n                                          num_parallel_tree=None,\n                                          random_state=None, ...),\n                   n_iter=50, n_jobs=-1,\n                   param_distributions={&#x27;colsample_bytree&#x27;: [0.6, 0.7, 0.8, 0.9,\n                                                             1.0],\n                                        &#x27;gamma&#x27;: [0, 0.1, 0.2, 0.3, 0.4],\n                                        &#x27;learning_rate&#x27;: [0.01, 0.05, 0.1, 0.2],\n                                        &#x27;max_depth&#x27;: [3, 4, 5, 6, 7, 8, 10],\n                                        &#x27;n_estimators&#x27;: [50, 100, 200, 300],\n                                        &#x27;subsample&#x27;: [0.6, 0.7, 0.8, 0.9, 1.0]},\n                   random_state=42, scoring=&#x27;neg_mean_absolute_error&#x27;,\n                   verbose=1)</pre><b>In a Jupyter environment, please rerun this cell to show the HTML representation or trust the notebook. <br />On GitHub, the HTML representation is unable to render, please try loading this page with nbviewer.org.</b></div><div class=\"sk-container\" hidden><div class=\"sk-item sk-dashed-wrapped\"><div class=\"sk-label-container\"><div class=\"sk-label sk-toggleable\"><input class=\"sk-toggleable__control sk-hidden--visually\" id=\"sk-estimator-id-1\" type=\"checkbox\" ><label for=\"sk-estimator-id-1\" class=\"sk-toggleable__label sk-toggleable__label-arrow\">RandomizedSearchCV</label><div class=\"sk-toggleable__content\"><pre>RandomizedSearchCV(cv=3,\n                   estimator=XGBRegressor(base_score=None, booster=None,\n                                          callbacks=None,\n                                          colsample_bylevel=None,\n                                          colsample_bynode=None,\n                                          colsample_bytree=None, device=None,\n                                          early_stopping_rounds=None,\n                                          enable_categorical=False,\n                                          eval_metric=None, feature_types=None,\n                                          gamma=None, grow_policy=None,\n                                          importance_type=None,\n                                          interaction_constraints=None,\n                                          learning_rate=...\n                                          n_estimators=None, n_jobs=None,\n                                          num_parallel_tree=None,\n                                          random_state=None, ...),\n                   n_iter=50, n_jobs=-1,\n                   param_distributions={&#x27;colsample_bytree&#x27;: [0.6, 0.7, 0.8, 0.9,\n                                                             1.0],\n                                        &#x27;gamma&#x27;: [0, 0.1, 0.2, 0.3, 0.4],\n                                        &#x27;learning_rate&#x27;: [0.01, 0.05, 0.1, 0.2],\n                                        &#x27;max_depth&#x27;: [3, 4, 5, 6, 7, 8, 10],\n                                        &#x27;n_estimators&#x27;: [50, 100, 200, 300],\n                                        &#x27;subsample&#x27;: [0.6, 0.7, 0.8, 0.9, 1.0]},\n                   random_state=42, scoring=&#x27;neg_mean_absolute_error&#x27;,\n                   verbose=1)</pre></div></div></div><div class=\"sk-parallel\"><div class=\"sk-parallel-item\"><div class=\"sk-item\"><div class=\"sk-label-container\"><div class=\"sk-label sk-toggleable\"><input class=\"sk-toggleable__control sk-hidden--visually\" id=\"sk-estimator-id-2\" type=\"checkbox\" ><label for=\"sk-estimator-id-2\" class=\"sk-toggleable__label sk-toggleable__label-arrow\">estimator: XGBRegressor</label><div class=\"sk-toggleable__content\"><pre>XGBRegressor(base_score=None, booster=None, callbacks=None,\n             colsample_bylevel=None, colsample_bynode=None,\n             colsample_bytree=None, device=None, early_stopping_rounds=None,\n             enable_categorical=False, eval_metric=None, feature_types=None,\n             gamma=None, grow_policy=None, importance_type=None,\n             interaction_constraints=None, learning_rate=None, max_bin=None,\n             max_cat_threshold=None, max_cat_to_onehot=None,\n             max_delta_step=None, max_depth=None, max_leaves=None,\n             min_child_weight=None, missing=nan, monotone_constraints=None,\n             multi_strategy=None, n_estimators=None, n_jobs=None,\n             num_parallel_tree=None, random_state=None, ...)</pre></div></div></div><div class=\"sk-serial\"><div class=\"sk-item\"><div class=\"sk-estimator sk-toggleable\"><input class=\"sk-toggleable__control sk-hidden--visually\" id=\"sk-estimator-id-3\" type=\"checkbox\" ><label for=\"sk-estimator-id-3\" class=\"sk-toggleable__label sk-toggleable__label-arrow\">XGBRegressor</label><div class=\"sk-toggleable__content\"><pre>XGBRegressor(base_score=None, booster=None, callbacks=None,\n             colsample_bylevel=None, colsample_bynode=None,\n             colsample_bytree=None, device=None, early_stopping_rounds=None,\n             enable_categorical=False, eval_metric=None, feature_types=None,\n             gamma=None, grow_policy=None, importance_type=None,\n             interaction_constraints=None, learning_rate=None, max_bin=None,\n             max_cat_threshold=None, max_cat_to_onehot=None,\n             max_delta_step=None, max_depth=None, max_leaves=None,\n             min_child_weight=None, missing=nan, monotone_constraints=None,\n             multi_strategy=None, n_estimators=None, n_jobs=None,\n             num_parallel_tree=None, random_state=None, ...)</pre></div></div></div></div></div></div></div></div></div></div>"
     },
     "execution_count": 47,
     "metadata": {},
     "output_type": "execute_result"
    }
   ],
   "source": [
    "random_search.fit(X_train, y_train)"
   ],
   "metadata": {
    "collapsed": false
   }
  },
  {
   "cell_type": "code",
   "execution_count": 49,
   "outputs": [],
   "source": [
    "best_params = random_search.best_params_"
   ],
   "metadata": {
    "collapsed": false
   }
  },
  {
   "cell_type": "code",
   "execution_count": 50,
   "outputs": [],
   "source": [
    "best_score = -random_search.best_score_"
   ],
   "metadata": {
    "collapsed": false
   }
  },
  {
   "cell_type": "code",
   "execution_count": 52,
   "outputs": [
    {
     "name": "stdout",
     "output_type": "stream",
     "text": [
      "Best Parameters: {'subsample': 0.7, 'n_estimators': 100, 'max_depth': 5, 'learning_rate': 0.2, 'gamma': 0, 'colsample_bytree': 0.6}\n"
     ]
    }
   ],
   "source": [
    "print(f\"Best Parameters: {best_params}\")"
   ],
   "metadata": {
    "collapsed": false
   }
  },
  {
   "cell_type": "code",
   "execution_count": 53,
   "outputs": [
    {
     "name": "stdout",
     "output_type": "stream",
     "text": [
      "Best Score: 0.658235313863774\n"
     ]
    }
   ],
   "source": [
    "print(f\"Best Score: {best_score}\")"
   ],
   "metadata": {
    "collapsed": false
   }
  },
  {
   "cell_type": "code",
   "execution_count": 54,
   "outputs": [],
   "source": [
    "best_model = XGBRegressor(**best_params, objective='reg:squarederror')"
   ],
   "metadata": {
    "collapsed": false
   }
  },
  {
   "cell_type": "code",
   "execution_count": 55,
   "outputs": [
    {
     "data": {
      "text/plain": "XGBRegressor(base_score=None, booster=None, callbacks=None,\n             colsample_bylevel=None, colsample_bynode=None,\n             colsample_bytree=0.6, device=None, early_stopping_rounds=None,\n             enable_categorical=False, eval_metric=None, feature_types=None,\n             gamma=0, grow_policy=None, importance_type=None,\n             interaction_constraints=None, learning_rate=0.2, max_bin=None,\n             max_cat_threshold=None, max_cat_to_onehot=None,\n             max_delta_step=None, max_depth=5, max_leaves=None,\n             min_child_weight=None, missing=nan, monotone_constraints=None,\n             multi_strategy=None, n_estimators=100, n_jobs=None,\n             num_parallel_tree=None, random_state=None, ...)",
      "text/html": "<style>#sk-container-id-2 {color: black;}#sk-container-id-2 pre{padding: 0;}#sk-container-id-2 div.sk-toggleable {background-color: white;}#sk-container-id-2 label.sk-toggleable__label {cursor: pointer;display: block;width: 100%;margin-bottom: 0;padding: 0.3em;box-sizing: border-box;text-align: center;}#sk-container-id-2 label.sk-toggleable__label-arrow:before {content: \"▸\";float: left;margin-right: 0.25em;color: #696969;}#sk-container-id-2 label.sk-toggleable__label-arrow:hover:before {color: black;}#sk-container-id-2 div.sk-estimator:hover label.sk-toggleable__label-arrow:before {color: black;}#sk-container-id-2 div.sk-toggleable__content {max-height: 0;max-width: 0;overflow: hidden;text-align: left;background-color: #f0f8ff;}#sk-container-id-2 div.sk-toggleable__content pre {margin: 0.2em;color: black;border-radius: 0.25em;background-color: #f0f8ff;}#sk-container-id-2 input.sk-toggleable__control:checked~div.sk-toggleable__content {max-height: 200px;max-width: 100%;overflow: auto;}#sk-container-id-2 input.sk-toggleable__control:checked~label.sk-toggleable__label-arrow:before {content: \"▾\";}#sk-container-id-2 div.sk-estimator input.sk-toggleable__control:checked~label.sk-toggleable__label {background-color: #d4ebff;}#sk-container-id-2 div.sk-label input.sk-toggleable__control:checked~label.sk-toggleable__label {background-color: #d4ebff;}#sk-container-id-2 input.sk-hidden--visually {border: 0;clip: rect(1px 1px 1px 1px);clip: rect(1px, 1px, 1px, 1px);height: 1px;margin: -1px;overflow: hidden;padding: 0;position: absolute;width: 1px;}#sk-container-id-2 div.sk-estimator {font-family: monospace;background-color: #f0f8ff;border: 1px dotted black;border-radius: 0.25em;box-sizing: border-box;margin-bottom: 0.5em;}#sk-container-id-2 div.sk-estimator:hover {background-color: #d4ebff;}#sk-container-id-2 div.sk-parallel-item::after {content: \"\";width: 100%;border-bottom: 1px solid gray;flex-grow: 1;}#sk-container-id-2 div.sk-label:hover label.sk-toggleable__label {background-color: #d4ebff;}#sk-container-id-2 div.sk-serial::before {content: \"\";position: absolute;border-left: 1px solid gray;box-sizing: border-box;top: 0;bottom: 0;left: 50%;z-index: 0;}#sk-container-id-2 div.sk-serial {display: flex;flex-direction: column;align-items: center;background-color: white;padding-right: 0.2em;padding-left: 0.2em;position: relative;}#sk-container-id-2 div.sk-item {position: relative;z-index: 1;}#sk-container-id-2 div.sk-parallel {display: flex;align-items: stretch;justify-content: center;background-color: white;position: relative;}#sk-container-id-2 div.sk-item::before, #sk-container-id-2 div.sk-parallel-item::before {content: \"\";position: absolute;border-left: 1px solid gray;box-sizing: border-box;top: 0;bottom: 0;left: 50%;z-index: -1;}#sk-container-id-2 div.sk-parallel-item {display: flex;flex-direction: column;z-index: 1;position: relative;background-color: white;}#sk-container-id-2 div.sk-parallel-item:first-child::after {align-self: flex-end;width: 50%;}#sk-container-id-2 div.sk-parallel-item:last-child::after {align-self: flex-start;width: 50%;}#sk-container-id-2 div.sk-parallel-item:only-child::after {width: 0;}#sk-container-id-2 div.sk-dashed-wrapped {border: 1px dashed gray;margin: 0 0.4em 0.5em 0.4em;box-sizing: border-box;padding-bottom: 0.4em;background-color: white;}#sk-container-id-2 div.sk-label label {font-family: monospace;font-weight: bold;display: inline-block;line-height: 1.2em;}#sk-container-id-2 div.sk-label-container {text-align: center;}#sk-container-id-2 div.sk-container {/* jupyter's `normalize.less` sets `[hidden] { display: none; }` but bootstrap.min.css set `[hidden] { display: none !important; }` so we also need the `!important` here to be able to override the default hidden behavior on the sphinx rendered scikit-learn.org. See: https://github.com/scikit-learn/scikit-learn/issues/21755 */display: inline-block !important;position: relative;}#sk-container-id-2 div.sk-text-repr-fallback {display: none;}</style><div id=\"sk-container-id-2\" class=\"sk-top-container\"><div class=\"sk-text-repr-fallback\"><pre>XGBRegressor(base_score=None, booster=None, callbacks=None,\n             colsample_bylevel=None, colsample_bynode=None,\n             colsample_bytree=0.6, device=None, early_stopping_rounds=None,\n             enable_categorical=False, eval_metric=None, feature_types=None,\n             gamma=0, grow_policy=None, importance_type=None,\n             interaction_constraints=None, learning_rate=0.2, max_bin=None,\n             max_cat_threshold=None, max_cat_to_onehot=None,\n             max_delta_step=None, max_depth=5, max_leaves=None,\n             min_child_weight=None, missing=nan, monotone_constraints=None,\n             multi_strategy=None, n_estimators=100, n_jobs=None,\n             num_parallel_tree=None, random_state=None, ...)</pre><b>In a Jupyter environment, please rerun this cell to show the HTML representation or trust the notebook. <br />On GitHub, the HTML representation is unable to render, please try loading this page with nbviewer.org.</b></div><div class=\"sk-container\" hidden><div class=\"sk-item\"><div class=\"sk-estimator sk-toggleable\"><input class=\"sk-toggleable__control sk-hidden--visually\" id=\"sk-estimator-id-4\" type=\"checkbox\" checked><label for=\"sk-estimator-id-4\" class=\"sk-toggleable__label sk-toggleable__label-arrow\">XGBRegressor</label><div class=\"sk-toggleable__content\"><pre>XGBRegressor(base_score=None, booster=None, callbacks=None,\n             colsample_bylevel=None, colsample_bynode=None,\n             colsample_bytree=0.6, device=None, early_stopping_rounds=None,\n             enable_categorical=False, eval_metric=None, feature_types=None,\n             gamma=0, grow_policy=None, importance_type=None,\n             interaction_constraints=None, learning_rate=0.2, max_bin=None,\n             max_cat_threshold=None, max_cat_to_onehot=None,\n             max_delta_step=None, max_depth=5, max_leaves=None,\n             min_child_weight=None, missing=nan, monotone_constraints=None,\n             multi_strategy=None, n_estimators=100, n_jobs=None,\n             num_parallel_tree=None, random_state=None, ...)</pre></div></div></div></div></div>"
     },
     "execution_count": 55,
     "metadata": {},
     "output_type": "execute_result"
    }
   ],
   "source": [
    "best_model.fit(X_train, y_train)"
   ],
   "metadata": {
    "collapsed": false
   }
  },
  {
   "cell_type": "code",
   "execution_count": 56,
   "outputs": [],
   "source": [
    "y_pred = best_model.predict(X_test)"
   ],
   "metadata": {
    "collapsed": false
   }
  },
  {
   "cell_type": "code",
   "execution_count": 61,
   "outputs": [],
   "source": [
    "mae = mean_absolute_error(y_test, y_pred)"
   ],
   "metadata": {
    "collapsed": false
   }
  },
  {
   "cell_type": "code",
   "execution_count": 62,
   "outputs": [
    {
     "data": {
      "text/plain": "50.31513335747457"
     },
     "execution_count": 62,
     "metadata": {},
     "output_type": "execute_result"
    }
   ],
   "source": [
    "mae"
   ],
   "metadata": {
    "collapsed": false
   }
  },
  {
   "cell_type": "code",
   "execution_count": null,
   "outputs": [],
   "source": [],
   "metadata": {
    "collapsed": false,
    "pycharm": {
     "is_executing": true
    }
   }
  },
  {
   "cell_type": "code",
   "execution_count": 62,
   "outputs": [],
   "source": [],
   "metadata": {
    "collapsed": false
   }
  }
 ],
 "metadata": {
  "kernelspec": {
   "display_name": "Python 3",
   "language": "python",
   "name": "python3"
  },
  "language_info": {
   "codemirror_mode": {
    "name": "ipython",
    "version": 2
   },
   "file_extension": ".py",
   "mimetype": "text/x-python",
   "name": "python",
   "nbconvert_exporter": "python",
   "pygments_lexer": "ipython2",
   "version": "2.7.6"
  }
 },
 "nbformat": 4,
 "nbformat_minor": 0
}
